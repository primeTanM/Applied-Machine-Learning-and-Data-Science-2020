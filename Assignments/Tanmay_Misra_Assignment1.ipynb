{
  "nbformat": 4,
  "nbformat_minor": 0,
  "metadata": {
    "colab": {
      "name": "Tanmay_Misra_Assignment1.ipynb",
      "provenance": [],
      "collapsed_sections": []
    },
    "kernelspec": {
      "name": "python3",
      "display_name": "Python 3"
    }
  },
  "cells": [
    {
      "cell_type": "markdown",
      "metadata": {
        "id": "xgPa5ZQFiQar"
      },
      "source": [
        "#Q. Interest Compounded\n",
        "The Formula for computing compound interest is as follows - \n",
        "\\begin{equation}\n",
        "A = P(1 + \\frac{r}{n})^{nt}\n",
        "\\end{equation}\n",
        "Write a function that takes as inputs $P, r, n, t$ and prints the total amount that has to be paid."
      ]
    },
    {
      "cell_type": "code",
      "metadata": {
        "id": "-nUYyV1NiuC6"
      },
      "source": [
        "def compound_interest(p, r, n, t):\n",
        "  a = p*((1 + r/n)**(n*t))\n",
        "  print(f\"The total amount to be paid is Rs. {a}\")\n",
        "\n",
        "\n"
      ],
      "execution_count": null,
      "outputs": []
    },
    {
      "cell_type": "code",
      "metadata": {
        "id": "Z4CjrFloivnh",
        "colab": {
          "base_uri": "https://localhost:8080/",
          "height": 34
        },
        "outputId": "c0bd9ee5-5144-4270-da41-18b75940c4d5"
      },
      "source": [
        "compound_interest(5000, 0.05, 12, 10)\n",
        "  \n",
        "  "
      ],
      "execution_count": null,
      "outputs": [
        {
          "output_type": "stream",
          "text": [
            "The total amount to be paid is Rs. 8235.0474884514\n"
          ],
          "name": "stdout"
        }
      ]
    },
    {
      "cell_type": "markdown",
      "metadata": {
        "id": "1ZnXZJJQjK-q"
      },
      "source": [
        "#Q. User power\n",
        "Write a program that takes two inputs from the user $a$ and $b$ and prints the value $a^b$"
      ]
    },
    {
      "cell_type": "code",
      "metadata": {
        "id": "4gSGzXICjY4X",
        "colab": {
          "base_uri": "https://localhost:8080/",
          "height": 69
        },
        "outputId": "28f21af9-7292-43e1-fd20-62340e8265a9"
      },
      "source": [
        "a = int(input(\"Enter a number a: \"))\n",
        "b = int(input(\"Enter a number b: \"))\n",
        "c = print(f\"The answer is {a**b}\")\n"
      ],
      "execution_count": null,
      "outputs": [
        {
          "output_type": "stream",
          "text": [
            "Enter a number a: 2\n",
            "Enter a number b: 3\n",
            "The answer is 8\n"
          ],
          "name": "stdout"
        }
      ]
    },
    {
      "cell_type": "markdown",
      "metadata": {
        "id": "ktdZ7wmG_CQc"
      },
      "source": [
        "#Q. GCD and LCM\n",
        "Write a program that takes two inputs from the user $a$ and $b$ and prints their gcd and lcm. (Use functions from math library)\n"
      ]
    },
    {
      "cell_type": "code",
      "metadata": {
        "id": "ANzcJahd_vcL",
        "colab": {
          "base_uri": "https://localhost:8080/",
          "height": 86
        },
        "outputId": "4f3de02d-5944-43fa-9bd2-32e948626251"
      },
      "source": [
        "a = int(input(\"Enter a number a: \"))\n",
        "b = int(input(\"Enter a number b: \"))\n",
        "from math import gcd\n",
        "c = gcd(a, b)\n",
        "d = (a*b)/c\n",
        "print(f\"The gcd of a & b is: {c} \")\n",
        "print(f\"The lcm of a & b is: {d} \")"
      ],
      "execution_count": null,
      "outputs": [
        {
          "output_type": "stream",
          "text": [
            "Enter a number a: 2\n",
            "Enter a number b: 3\n",
            "The gcd of a & b is: 1 \n",
            "The lcm of a & b is: 6.0 \n"
          ],
          "name": "stdout"
        }
      ]
    },
    {
      "cell_type": "markdown",
      "metadata": {
        "id": "bVDRuUDqNVRb"
      },
      "source": [
        "##Q. Right Justify\n",
        "Python has a function called ```len``` that returns the _length of a string_. <br>\n",
        "Write a function that takes a string ```s``` as a parameter and prints the string with enough leading spaces so that the last letter of the string is in column 70 of the display. <br>\n",
        "```\n",
        "right_justify('Hari')\n",
        "```\n",
        "Expected Output: <br>\n",
        "<img src=\"https://drive.google.com/uc?id=1DaifS8HV5PE7HbUvSbdj_N2Q-t88Wr8Q\" width=\"400\">\n",
        "\n",
        "\n"
      ]
    },
    {
      "cell_type": "code",
      "metadata": {
        "id": "ZXLMeoiuZhL9"
      },
      "source": [
        "def right_justify(s):\n",
        "  a = len(s)\n",
        "  b = print(' '*(70-a) + s)\n",
        "  return (b)"
      ],
      "execution_count": null,
      "outputs": []
    },
    {
      "cell_type": "code",
      "metadata": {
        "id": "5GGu7KB7i27E",
        "colab": {
          "base_uri": "https://localhost:8080/",
          "height": 34
        },
        "outputId": "103ee147-374c-45e1-d9aa-b52e805b3aaa"
      },
      "source": [
        "right_justify(\"Hari\")"
      ],
      "execution_count": null,
      "outputs": [
        {
          "output_type": "stream",
          "text": [
            "                                                                  Hari\n"
          ],
          "name": "stdout"
        }
      ]
    },
    {
      "cell_type": "markdown",
      "metadata": {
        "id": "KsC-3mHZa8Zh"
      },
      "source": [
        "#Q. Do Anything Twice\n",
        "Refer to Drill 19(programming drill - 4) for this question. <br>\n",
        "- Modify ```do_twice``` so that it takes two arguments - a function object and a value, and calls the function twice, passing value as argument.\n",
        "- Define a new function ```do_four``` that takes a function object and a value and calls the function four times. There should only be two statements in the body of the function.\n"
      ]
    },
    {
      "cell_type": "code",
      "metadata": {
        "id": "gsyw0-L_T-ln"
      },
      "source": [
        "def do_twice(f, v):\n",
        "  \"\"\"\n",
        "  This function calls any function object that is passed to it twice passing v as the argument\n",
        "\n",
        "  Input:\n",
        "    f: function object\n",
        "    v: value\n",
        "  \"\"\"\n",
        "  f(v)\n",
        "  f(v)\n",
        "\n",
        "def print_word(word):\n",
        "    print(word)"
      ],
      "execution_count": null,
      "outputs": []
    },
    {
      "cell_type": "code",
      "metadata": {
        "id": "YlX_2hH_SpVw",
        "colab": {
          "base_uri": "https://localhost:8080/",
          "height": 52
        },
        "outputId": "2fda9abf-ed41-4a08-917c-3bfe26126a23"
      },
      "source": [
        "do_twice(print_word,'spam')"
      ],
      "execution_count": null,
      "outputs": [
        {
          "output_type": "stream",
          "text": [
            "spam\n",
            "spam\n"
          ],
          "name": "stdout"
        }
      ]
    },
    {
      "cell_type": "code",
      "metadata": {
        "id": "FU4inwG6Sl5c"
      },
      "source": [
        "def do_four(f, v):\n",
        "  \"\"\"\n",
        "  This function calls any function object that is passed to it four times passing v as the argument\n",
        "\n",
        "  Input:\n",
        "    f: function object\n",
        "    v: value\n",
        "  \"\"\"\n",
        "  do_twice(f, v)\n",
        "  do_twice(f, v)\n",
        "\n",
        "def print_word(word):\n",
        "    print(word)\n"
      ],
      "execution_count": null,
      "outputs": []
    },
    {
      "cell_type": "code",
      "metadata": {
        "id": "hbtZYLPqhTJh",
        "colab": {
          "base_uri": "https://localhost:8080/",
          "height": 86
        },
        "outputId": "dc6f6255-27ce-4b36-9818-484c56d2b8ae"
      },
      "source": [
        "do_four(print_word, 'correct')"
      ],
      "execution_count": null,
      "outputs": [
        {
          "output_type": "stream",
          "text": [
            "correct\n",
            "correct\n",
            "correct\n",
            "correct\n"
          ],
          "name": "stdout"
        }
      ]
    },
    {
      "cell_type": "markdown",
      "metadata": {
        "id": "dnK2S6Y6MUnL"
      },
      "source": [
        "#Q. Grid art\n",
        "Write a function that draws a grid like the following: <br>\n",
        "<img src=\"https://drive.google.com/uc?id=1a4-dj7bd4f8aYATscJiMgAkZi087n8Ie\" width=\"200\">"
      ]
    },
    {
      "cell_type": "code",
      "metadata": {
        "id": "muJBmDEdMML0"
      },
      "source": [
        "def draw_grid_art():\n",
        "  a = \"+ - - - - + - - - - +\"\n",
        "  def do_twice(f):\n",
        "    f()\n",
        "    f()\n",
        "\n",
        "  def do_four(f):\n",
        "      do_twice(f)\n",
        "      do_twice(f)\n",
        "  def vertical():\n",
        "      b = \"|         |         |\"\n",
        "      print(b)\n",
        "  print(a)\n",
        "  do_four(vertical)\n",
        "  print(a)\n",
        "  do_four(vertical)\n",
        "  print(a)\n",
        " "
      ],
      "execution_count": null,
      "outputs": []
    },
    {
      "cell_type": "code",
      "metadata": {
        "id": "BsFOHlOtgLFq",
        "colab": {
          "base_uri": "https://localhost:8080/",
          "height": 207
        },
        "outputId": "2768f74c-3896-4ae2-edef-f166aa225a8e"
      },
      "source": [
        "draw_grid_art()"
      ],
      "execution_count": null,
      "outputs": [
        {
          "output_type": "stream",
          "text": [
            "+ - - - - + - - - - +\n",
            "|         |         |\n",
            "|         |         |\n",
            "|         |         |\n",
            "|         |         |\n",
            "+ - - - - + - - - - +\n",
            "|         |         |\n",
            "|         |         |\n",
            "|         |         |\n",
            "|         |         |\n",
            "+ - - - - + - - - - +\n"
          ],
          "name": "stdout"
        }
      ]
    },
    {
      "cell_type": "markdown",
      "metadata": {
        "id": "W2Gq1-znmCWh"
      },
      "source": [
        "Write a function that prints a similar grid but with four rows and four columns."
      ]
    },
    {
      "cell_type": "code",
      "metadata": {
        "id": "DFyd554ljoif"
      },
      "source": [
        "def draw_grid_art_four():\n",
        "  a = \"+ - - - - + - - - - + - - - - +\"\n",
        "  def do_twice(f):\n",
        "    f()\n",
        "    f()\n",
        "\n",
        "  def do_four(f):\n",
        "      do_twice(f)\n",
        "      do_twice(f)\n",
        "  def vertical():\n",
        "      b = \"|         |         |         |\"\n",
        "      print(b)\n",
        "  print(a)\n",
        "  do_four(vertical)\n",
        "  print(a)\n",
        "  do_four(vertical)\n",
        "  print(a)\n",
        "  do_four(vertical)\n",
        "  print(a)\n",
        "  \n",
        " "
      ],
      "execution_count": null,
      "outputs": []
    },
    {
      "cell_type": "code",
      "metadata": {
        "id": "Ijgua4i0iiVV",
        "colab": {
          "base_uri": "https://localhost:8080/"
        },
        "outputId": "b8851422-5f60-4b50-ec48-60ae82870e1d"
      },
      "source": [
        "draw_grid_art_four()"
      ],
      "execution_count": null,
      "outputs": [
        {
          "output_type": "error",
          "ename": "NameError",
          "evalue": "ignored",
          "traceback": [
            "\u001b[0;31m---------------------------------------------------------------------------\u001b[0m",
            "\u001b[0;31mNameError\u001b[0m                                 Traceback (most recent call last)",
            "\u001b[0;32m<ipython-input-1-be38be7bfcc4>\u001b[0m in \u001b[0;36m<module>\u001b[0;34m()\u001b[0m\n\u001b[0;32m----> 1\u001b[0;31m \u001b[0mdraw_grid_art_four\u001b[0m\u001b[0;34m(\u001b[0m\u001b[0;34m)\u001b[0m\u001b[0;34m\u001b[0m\u001b[0;34m\u001b[0m\u001b[0m\n\u001b[0m",
            "\u001b[0;31mNameError\u001b[0m: name 'draw_grid_art_four' is not defined"
          ]
        }
      ]
    }
  ]
}