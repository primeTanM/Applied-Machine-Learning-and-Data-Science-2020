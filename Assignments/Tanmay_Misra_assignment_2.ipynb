{
  "nbformat": 4,
  "nbformat_minor": 0,
  "metadata": {
    "colab": {
      "name": "Tanmay_Misra_assignment 2.ipynb",
      "provenance": [],
      "collapsed_sections": []
    },
    "kernelspec": {
      "name": "python3",
      "display_name": "Python 3"
    }
  },
  "cells": [
    {
      "cell_type": "markdown",
      "metadata": {
        "id": "85Po9342eFZZ"
      },
      "source": [
        "##Q. Min Min Min\n",
        "Write a program that does the following\n",
        "- Takes 3 numbers as input from the user\n",
        "- Finds minimum of the 3 numbers and prints it"
      ]
    },
    {
      "cell_type": "code",
      "metadata": {
        "id": "MM94VVbe7Uuj",
        "colab": {
          "base_uri": "https://localhost:8080/",
          "height": 50
        },
        "outputId": "12c5ab2b-c3e1-4e5c-aef3-e59d12231429"
      },
      "source": [
        "x, y, z = input('Enter three numbers: ').split()\n",
        "numbers = [x, y, z]\n",
        "numbers.sort()\n",
        "print(numbers[0])"
      ],
      "execution_count": null,
      "outputs": [
        {
          "output_type": "stream",
          "text": [
            "Enter three numbers: 1 2 3\n",
            "1\n"
          ],
          "name": "stdout"
        }
      ]
    },
    {
      "cell_type": "markdown",
      "metadata": {
        "id": "7GZnA2DVZnfg"
      },
      "source": [
        "#Q. Proving Fermat\n",
        "Fermat's last theorem says that there are no positive integers $a, b, c$ such that \n",
        "$$\n",
        "a^n + b^n = c^n\n",
        "$$\n",
        "for any values of $n > 2$\n",
        "- Write a function named ```check_fermat``` that takes four parameters - ```a, b, c``` and ```n``` and checks to see if fermat's theorem holds. If ```n > 2``` and it turns out to be true that \n",
        "$$\n",
        "a^n + b^n = c^n\n",
        "$$ the function should print, \"Oh No! Fermat was wrong!\". Otherwise the function should print, \"No that doesn't work\"\n",
        "- Write a program that takes four inputs from the users - ```a, b, c``` and ```n``` and converts them to integers and uses check_fermat to check whether they violate Fermat's theorem."
      ]
    },
    {
      "cell_type": "code",
      "metadata": {
        "id": "gnEuo5d48wkA",
        "colab": {
          "base_uri": "https://localhost:8080/",
          "height": 50
        },
        "outputId": "c5d99937-12ac-4788-8042-6476f404de1d"
      },
      "source": [
        "separator = '-'\n",
        "a, b, c, n = [int(i) for i in input(\"Enter parameters : \").split(separator)]\n",
        "def check_fermat(a, b, c, n):\n",
        "  if n > 2 and (a**n + b**n == c**n):\n",
        "    print('Oh No! Fermat was wrong!')\n",
        "\n",
        "  else:\n",
        "    print(\"No that doesn't work\")\n",
        "\n",
        "check_fermat(a, b, c, n)\n",
        "\n"
      ],
      "execution_count": null,
      "outputs": [
        {
          "output_type": "stream",
          "text": [
            "Enter parameters : 1-2-3-4\n",
            "No that doesn't work\n"
          ],
          "name": "stdout"
        }
      ]
    },
    {
      "cell_type": "markdown",
      "metadata": {
        "id": "htwKREd7bD_g"
      },
      "source": [
        "#Q. Potential triangularity\n",
        "If you are given three sticks, you may or may not be able to arrange them in a triangle. For example,if one of the sticks is 12inches long and the other two are  1inch long, it is clear that you will not be able to get the short sticks to meet in the middle. For any three lengths, there is a simple test to see if it is possible to form a triangle. \n",
        "\n",
        "_If any of the three lengths is greater than the sum of the other two, then you cannot form a triangle. Otherwise, you can. (If the sum of two lengths equals the third, they form what is called a “degenerate” triangle or a straight line segment.)_\n",
        "\n",
        "- Write a function named ```is_triangle``` that takes three integers as arguments, and that prints either \"Yes\" or \"No\", depending on whether you can or cannot form a triangle using sticks of given lengths.\n",
        "- Write a function that prompts the user to input three stick lengths, converts them to integers, and uses is_triangle to check whether sitcks with the given lengths can form a triangle. "
      ]
    },
    {
      "cell_type": "code",
      "metadata": {
        "id": "FEExT8ne-kpM",
        "colab": {
          "base_uri": "https://localhost:8080/",
          "height": 50
        },
        "outputId": "52572692-eb70-4b6f-9f49-61e3d5d730bc"
      },
      "source": [
        "\n",
        "a, b, c = [float(i) for i in input('Enter the stick lengths: ').split(' ')]\n",
        "x = int(a)\n",
        "y = int(b)\n",
        "z = int(c)\n",
        "def is_triangle(x, y, z):\n",
        "  n = [x, y, z]\n",
        "  n.sort()\n",
        "  if n[2] < n[0] + n[1]:\n",
        "    print(\"Yes\")\n",
        "  else:\n",
        "    print(\"No\")\n",
        "      \n",
        "is_triangle(x, y, z)\n",
        "\n"
      ],
      "execution_count": null,
      "outputs": [
        {
          "output_type": "stream",
          "text": [
            "Enter the stick lengths: 2 2 1\n",
            "Yes\n"
          ],
          "name": "stdout"
        }
      ]
    },
    {
      "cell_type": "markdown",
      "metadata": {
        "id": "KOR45AN7hL4e"
      },
      "source": [
        "#Q. Basic Calculator\n",
        "- Write a function that takes three arguments - ```op1, op2``` and ```operator``` and prints the result ```op1 operator op2```. <br>\n",
        "Eg., for ```op1 = 1```, ```op2 = 2``` and ```operator = '+' ```, the function prints ```3``` as the result (```1 + 2```). <br>\n",
        "Assume that the operator can be one of the following : ```+, -, *, /, %``` <br>\n",
        "- Write a program that takes 3 inputs from the user - two numbers and an operator and uses the calculator function to print the result."
      ]
    },
    {
      "cell_type": "code",
      "metadata": {
        "id": "65ifLibhhM3c",
        "colab": {
          "base_uri": "https://localhost:8080/",
          "height": 84
        },
        "outputId": "0ca94674-637a-402d-f165-7b2d6bff78c3"
      },
      "source": [
        "#### Write your code here\n",
        "op1 = float(input('Enter first number: '))\n",
        "op2 = float(input('Enter second number: '))\n",
        "operator = input('Enter the operator: ')\n",
        "def calc(op1, operator, op2):\n",
        " \n",
        "  if operator == ('+'):\n",
        "    print(op1 + op2 )\n",
        "  elif operator == ('-'):\n",
        "    print(op1 - op2)\n",
        "  elif operator == ('*'):\n",
        "    print(op1 * op2)\n",
        "  elif operator == ('/'):\n",
        "    print(op1 / op2)\n",
        "  elif operator == ('%'):\n",
        "    print(op1 % op2)\n",
        "\n",
        "calc(op1, operator, op2)"
      ],
      "execution_count": null,
      "outputs": [
        {
          "output_type": "stream",
          "text": [
            "Enter first number: 2\n",
            "Enter second number: 3\n",
            "Enter the operatorz: %\n",
            "2.0\n"
          ],
          "name": "stdout"
        }
      ]
    },
    {
      "cell_type": "code",
      "metadata": {
        "id": "dZCIDUEzLdsL"
      },
      "source": [
        ""
      ],
      "execution_count": null,
      "outputs": []
    }
  ]
}