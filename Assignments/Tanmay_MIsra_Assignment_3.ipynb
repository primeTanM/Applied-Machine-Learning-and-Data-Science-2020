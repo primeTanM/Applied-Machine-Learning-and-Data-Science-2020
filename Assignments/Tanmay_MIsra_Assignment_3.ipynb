{
  "nbformat": 4,
  "nbformat_minor": 0,
  "metadata": {
    "colab": {
      "name": "Tanmay_MIsra_Assignment 3.ipynb",
      "provenance": [],
      "collapsed_sections": []
    },
    "kernelspec": {
      "name": "python3",
      "display_name": "Python 3"
    }
  },
  "cells": [
    {
      "cell_type": "markdown",
      "metadata": {
        "id": "YCKRJLaYcrOU"
      },
      "source": [
        "#Q. Even Sum\n",
        "Write a function that takes an argument ```n``` and returns sum of all even numbers $2, 4, \\ldots$ upto $n$"
      ]
    },
    {
      "cell_type": "code",
      "metadata": {
        "id": "GbbyVwn_k1YW",
        "colab": {
          "base_uri": "https://localhost:8080/",
          "height": 33
        },
        "outputId": "66761df8-a357-4036-cae2-a4e7b6cc6684"
      },
      "source": [
        "## Write your code here\n",
        "def myfunc(n):\n",
        "  s = 0\n",
        "  for i in range(0,n,2):\n",
        "      s = s + i\n",
        "  print(s)\n",
        "myfunc(20)"
      ],
      "execution_count": null,
      "outputs": [
        {
          "output_type": "stream",
          "text": [
            "90\n"
          ],
          "name": "stdout"
        }
      ]
    },
    {
      "cell_type": "markdown",
      "metadata": {
        "id": "OmWQSgEbc9Tj"
      },
      "source": [
        "#Q. Intersection\n",
        "Write a function that takes two lists ```l1``` and ```l2``` as arguments and returns a list containing elements that are common to both lists without containing any duplicates."
      ]
    },
    {
      "cell_type": "code",
      "metadata": {
        "id": "jw6MAM8hdTzI",
        "colab": {
          "base_uri": "https://localhost:8080/",
          "height": 33
        },
        "outputId": "ded1c488-0800-410a-93fd-305503cd10f9"
      },
      "source": [
        "def lister(l1,l2):\n",
        "    c = []\n",
        "    for i in l1:\n",
        "        for j in l2:\n",
        "            if i == j:\n",
        "                c.append(i)\n",
        "    print(c)\n",
        "        \n",
        "lister([1,2,3,4,5],[2,3,4,5,8,9])        \n",
        "        \n",
        "  "
      ],
      "execution_count": null,
      "outputs": [
        {
          "output_type": "stream",
          "text": [
            "[2, 3, 4, 5]\n"
          ],
          "name": "stdout"
        }
      ]
    },
    {
      "cell_type": "markdown",
      "metadata": {
        "id": "yWcvFuaNdSs-"
      },
      "source": [
        "#Q. Primality\n",
        "Write a function that takes a number ```n``` as argument and returns ```True``` if the number is prime and ```False``` otherwise."
      ]
    },
    {
      "cell_type": "code",
      "metadata": {
        "id": "FqZmuu-FdtnR",
        "colab": {
          "base_uri": "https://localhost:8080/",
          "height": 33
        },
        "outputId": "8ac77e8f-61c4-4669-ba11-e2d1f24385aa"
      },
      "source": [
        "def prime(n):\n",
        "  \n",
        "        lst = []\n",
        "        for i in range(1, n+1):\n",
        "            if n % i == 0:\n",
        "                lst.append(i)\n",
        "        return bool(len(lst) == 2)"
      ],
      "execution_count": null,
      "outputs": [
        {
          "output_type": "execute_result",
          "data": {
            "text/plain": [
              "False"
            ]
          },
          "metadata": {
            "tags": []
          },
          "execution_count": 7
        }
      ]
    },
    {
      "cell_type": "markdown",
      "metadata": {
        "id": "5oNKdGnQdvwb"
      },
      "source": [
        "#Q. Digit Count and Sum\n",
        "Write a function that takes a number ```n``` as input and returns a tuple of two values - the number of digits in that number and sum of digits in that number."
      ]
    },
    {
      "cell_type": "code",
      "metadata": {
        "id": "qXYtFx4ueOpq",
        "colab": {
          "base_uri": "https://localhost:8080/",
          "height": 33
        },
        "outputId": "266c7eb4-82d2-4613-d44d-39ff8c06e912"
      },
      "source": [
        "### Write your code here\n",
        "def func(n):\n",
        "  m = str(n)\n",
        "  dig_no = len(list(m))\n",
        "\n",
        "  x = 0 \n",
        "  a = [int(i) for i in m]\n",
        "  dig_sum = sum(a)\n",
        "  return(dig_no,dig_sum)  \n",
        "\n",
        "func(123124)\n"
      ],
      "execution_count": null,
      "outputs": [
        {
          "output_type": "execute_result",
          "data": {
            "text/plain": [
              "(6, 13)"
            ]
          },
          "metadata": {
            "tags": []
          },
          "execution_count": 8
        }
      ]
    },
    {
      "cell_type": "markdown",
      "metadata": {
        "id": "3gjiztaOeSNg"
      },
      "source": [
        "#Q. Reverse Word Order\n",
        "Write a function that takes as argument a string containing multiple words and returns a string containing the same words in reverse order. \\\\\n",
        "Eg., ```input = 'India is a democracy'; output = 'democracy a is India' ```"
      ]
    },
    {
      "cell_type": "code",
      "metadata": {
        "id": "-R6gbrxceePP",
        "colab": {
          "base_uri": "https://localhost:8080/",
          "height": 33
        },
        "outputId": "1de38f22-62b9-41b3-bc42-df9698b487bd"
      },
      "source": [
        "def rev(string):\n",
        "  a = string.split()\n",
        "  a.reverse()\n",
        "  print(\" \".join(a))\n",
        "\n",
        "rev(\"India is a democracy\")"
      ],
      "execution_count": null,
      "outputs": [
        {
          "output_type": "stream",
          "text": [
            "democracy a is India\n"
          ],
          "name": "stdout"
        }
      ]
    },
    {
      "cell_type": "markdown",
      "metadata": {
        "id": "MIUKUUWxe-i_"
      },
      "source": [
        "#Q. Palindromes\n",
        "Write a function that takes as argument a string and returns ```True``` if the string is a palindrome and ```False``` otherwise. \\\\\n",
        "A palindrome is a string that reads the same backwards and forwards. \\\\\n",
        "Eg., ```'aabbaa'``` and ```'aacbbcaa'``` are palindromes. ```'aacca'``` and ```'acab'``` are not. \\\\\n",
        "(Ignore whitespace inside strings. For eg., ```'Was It A Rat I Saw'``` is a palindrome)"
      ]
    },
    {
      "cell_type": "code",
      "metadata": {
        "id": "auXCyggugIFp",
        "colab": {
          "base_uri": "https://localhost:8080/",
          "height": 33
        },
        "outputId": "924df76b-b1e1-42ec-8d98-f64d467cd484"
      },
      "source": [
        "### Write your code here\n",
        "def palindrome(s):\n",
        "  a = s.lower()\n",
        "  x = a.replace(\" \",\"\")\n",
        "\n",
        "  return (x == x[::-1])\n",
        "palindrome(\"was it a rat i saw\")"
      ],
      "execution_count": null,
      "outputs": [
        {
          "output_type": "execute_result",
          "data": {
            "text/plain": [
              "True"
            ]
          },
          "metadata": {
            "tags": []
          },
          "execution_count": 20
        }
      ]
    },
    {
      "cell_type": "markdown",
      "metadata": {
        "id": "F7faqFS4gob3"
      },
      "source": [
        "#Q. Pascal Triangle\n",
        "Write a function that takes an argument n as input and returns a string containing a pascal triangle of n rows. (https://en.wikipedia.org/wiki/Pascal%27s_triangle)"
      ]
    },
    {
      "cell_type": "code",
      "metadata": {
        "id": "tVTmDoF-howj",
        "colab": {
          "base_uri": "https://localhost:8080/",
          "height": 134
        },
        "outputId": "3cd3e7b0-ed9e-4aeb-a749-b26e293ce1e9"
      },
      "source": [
        "def pascal(n):\n",
        "  a=[]\n",
        "  for i in range(n):\n",
        "      a.append([])\n",
        "      a[i].append(1)\n",
        "      for j in range(1,i):\n",
        "          a[i].append(a[i-1][j-1]+a[i-1][j])\n",
        "      if (n!=0):\n",
        "          a[i].append(1)\n",
        "  for i in range(n):\n",
        "      print(\"   \"*(n-i),end=\" \",sep=\" \")\n",
        "      for j in range(0,i+1):\n",
        "          print('{0:6}'.format(a[i][j]),end=\" \",sep=\" \")\n",
        "      print()\n",
        "\n",
        "pascal(7)"
      ],
      "execution_count": null,
      "outputs": [
        {
          "output_type": "stream",
          "text": [
            "                           1 \n",
            "                        1      1 \n",
            "                     1      2      1 \n",
            "                  1      3      3      1 \n",
            "               1      4      6      4      1 \n",
            "            1      5     10     10      5      1 \n",
            "         1      6     15     20     15      6      1 \n"
          ],
          "name": "stdout"
        }
      ]
    },
    {
      "cell_type": "markdown",
      "metadata": {
        "id": "in3pF1jeiOyV"
      },
      "source": [
        "[link text](https://)"
      ]
    }
  ]
}