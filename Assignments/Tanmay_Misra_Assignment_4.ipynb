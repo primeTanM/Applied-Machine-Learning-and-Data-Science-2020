{
  "nbformat": 4,
  "nbformat_minor": 0,
  "metadata": {
    "colab": {
      "name": "Tanmay_Misra_Assignment_4.ipynb",
      "provenance": [],
      "collapsed_sections": []
    },
    "kernelspec": {
      "name": "python3",
      "display_name": "Python 3"
    }
  },
  "cells": [
    {
      "cell_type": "markdown",
      "metadata": {
        "id": "dONX-FvvtK8m"
      },
      "source": [
        "##HOUSE HUNTING(PART-A)"
      ]
    },
    {
      "cell_type": "code",
      "metadata": {
        "id": "tL5JhL5vtR3S",
        "colab": {
          "base_uri": "https://localhost:8080/",
          "height": 225
        },
        "outputId": "2ed1dbe5-920b-40ee-909d-d71f969f1707"
      },
      "source": [
        "n=int(input(\"Enter the number of Test Cases: \"))\n",
        "print()\n",
        "for i in range(n):\n",
        "    annual_salary=float(input(\"Enter your annual Salary: \"))\n",
        "    portion_saved=float(input(\"Enter the percent of your salary to save as decimal: \"))\n",
        "    total_cost=float(input(\"Enter the cost: \"))\n",
        "    portion_down_payment=.25*total_cost\n",
        "    r=.04\n",
        "    current_savings=0\n",
        "    months=0\n",
        "    while(current_savings<portion_down_payment):\n",
        "        current_savings+=(portion_saved*annual_salary/12)\n",
        "        current_savings+=(r*current_savings/12)\n",
        "        months+=1\n",
        "    print(\"Number of Months: \",months,\"\\n\")"
      ],
      "execution_count": null,
      "outputs": [
        {
          "output_type": "stream",
          "text": [
            "Enter the number of Test Cases: 2\n",
            "\n",
            "Enter your annual Salary: 120000\n",
            "Enter the percent of your salary to save as decimal: 0.10\n",
            "Enter the cost: 1000000\n",
            "Number of Months:  182 \n",
            "\n",
            "Enter your annual Salary: 80000\n",
            "Enter the percent of your salary to save as decimal: 0.15\n",
            "Enter the cost: 500000\n",
            "Number of Months:  105 \n",
            "\n"
          ],
          "name": "stdout"
        }
      ]
    },
    {
      "cell_type": "markdown",
      "metadata": {
        "id": "SpZDSW_nuSv-"
      },
      "source": [
        "##SAVING,WITH A RAISE BACKGROUND(PART-B)"
      ]
    },
    {
      "cell_type": "code",
      "metadata": {
        "id": "2auGN9l1ucky",
        "colab": {
          "base_uri": "https://localhost:8080/",
          "height": 364
        },
        "outputId": "83668b98-280d-4e9b-815e-78ee6ca7398f"
      },
      "source": [
        "n=int(input(\"Enter the number of Test Cases: \"))\n",
        "print()\n",
        "for i in range(n):\n",
        "    annual_salary=float(input(\"Enter your annual Salary: \"))\n",
        "    portion_saved=float(input(\"Enter the percent of your salary to save as decimal: \"))\n",
        "    total_cost=float(input(\"Enter the cost: \"))\n",
        "    semi_annual_raise=float(input(\"Enter the semiannual raise, as a decimal: \"))\n",
        "    portion_down_payment=.25*total_cost\n",
        "    r=.04\n",
        "    current_savings=0\n",
        "    months=0\n",
        "    while(current_savings<portion_down_payment):\n",
        "        current_savings+=(portion_saved*annual_salary/12)\n",
        "        current_savings+=(r*current_savings/12)\n",
        "        months+=1\n",
        "        if months%6==0:\n",
        "            annual_salary+=(annual_salary*semi_annual_raise)\n",
        "    print(\"Number of Months: \",months,\"\\n\")"
      ],
      "execution_count": null,
      "outputs": [
        {
          "output_type": "stream",
          "text": [
            "Enter the number of Test Cases: 3\n",
            "\n",
            "Enter your annual Salary: 120000\n",
            "Enter the percent of your salary to save as decimal: 0.05\n",
            "Enter the cost: 500000\n",
            "Enter the semiannual raise, as a decimal: 0.03\n",
            "Number of Months:  142 \n",
            "\n",
            "Enter your annual Salary: 75000\n",
            "Enter the percent of your salary to save as decimal: 0.05\n",
            "Enter the cost: 1500000\n",
            "Enter the semiannual raise, as a decimal: 0.05\n",
            "Number of Months:  260 \n",
            "\n",
            "Enter your annual Salary: 80000\n",
            "Enter the percent of your salary to save as decimal: .10\n",
            "Enter the cost: 800000\n",
            "Enter the semiannual raise, as a decimal: 0.03\n",
            "Number of Months:  158 \n",
            "\n"
          ],
          "name": "stdout"
        }
      ]
    },
    {
      "cell_type": "markdown",
      "metadata": {
        "id": "dlVvWC47u7Xh"
      },
      "source": [
        "##FINDING THE RIGHT AMOUNT TO SAVE AWAY(PART-C)"
      ]
    },
    {
      "cell_type": "code",
      "metadata": {
        "id": "oPWpKu-RvEO7",
        "colab": {
          "base_uri": "https://localhost:8080/",
          "height": 69
        },
        "outputId": "ed16576b-a4a9-4435-f177-8a612d6f755f"
      },
      "source": [
        "import math\n",
        "semi_annual_raise=.07\n",
        "current_savings=0.0\n",
        "total_cost=1000000\n",
        "down_payment=.25*total_cost\n",
        "r=.04\n",
        "time_months=36\n",
        "annual_salary=float(input(\"Enter your annual Salary: \"))\n",
        "\n",
        "\n",
        "starting_annual_salary=annual_salary\n",
        "\n",
        "lwr=0\n",
        "upr=10000\n",
        "ps=0\n",
        "no_steps_search=0\n",
        "portion_saved_prev=9999999\n",
        "portion_saved=0.0\n",
        "\n",
        "\n",
        "while abs(current_savings-down_payment)>100:\n",
        "    portion_saved_prev=portion_saved\n",
        "    no_steps_search+=1\n",
        "    if down_payment>current_savings:\n",
        "        lwr=ps\n",
        "    else:\n",
        "        upr=ps\n",
        "    ps=int((lwr+upr)/2)\n",
        "    portion_saved=ps/10000\n",
        "    if portion_saved==portion_saved_prev:\n",
        "        print(\"It is not possible to pay the down payment in three years.\")\n",
        "        break\n",
        "    current_savings=0.0\n",
        "    annual_salary=starting_annual_salary\n",
        "    for i in range(time_months):\n",
        "        current_savings*=(1+r/12)\n",
        "        current_savings+=annual_salary/12*portion_saved\n",
        "        if i%6==0 and not i==0:\n",
        "            annual_salary*=(1+semi_annual_raise)\n",
        "\n",
        "print(\"Best saving rate: \"+str(ps/10000))            \n",
        "print(\"Steps in Bisection Search: \"+str(no_steps_search))\n",
        "        "
      ],
      "execution_count": null,
      "outputs": [
        {
          "output_type": "stream",
          "text": [
            "Enter your annual Salary: 150000\n",
            "Best saving rate: 0.4453\n",
            "Steps in Bisection Search: 7\n"
          ],
          "name": "stdout"
        }
      ]
    }
  ]
}