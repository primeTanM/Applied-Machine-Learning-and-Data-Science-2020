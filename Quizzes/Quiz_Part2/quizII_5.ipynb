{
  "nbformat": 4,
  "nbformat_minor": 0,
  "metadata": {
    "colab": {
      "name": "Copy of quizII-5.ipynb",
      "provenance": [],
      "collapsed_sections": []
    },
    "kernelspec": {
      "display_name": "Python 3",
      "language": "python",
      "name": "python3"
    },
    "language_info": {
      "codemirror_mode": {
        "name": "ipython",
        "version": 3
      },
      "file_extension": ".py",
      "mimetype": "text/x-python",
      "name": "python",
      "nbconvert_exporter": "python",
      "pygments_lexer": "ipython3",
      "version": "3.7.3"
    }
  },
  "cells": [
    {
      "cell_type": "markdown",
      "metadata": {
        "id": "A2KbyDJex2eT"
      },
      "source": [
        "Before you turn this problem in, make sure everything runs as expected. First, **Restart and Run All** (in the menubar in colab, select Runtime$\\rightarrow$Restart and Run all) \n",
        "\n",
        "Make sure you only fill in any place that says `YOUR CODE HERE` and do not make any other changes to the code. If you add any code cells for your own testing. Please delete them before submission."
      ]
    },
    {
      "cell_type": "markdown",
      "metadata": {
        "id": "trh8G05kx2eV"
      },
      "source": [
        "---"
      ]
    },
    {
      "cell_type": "code",
      "metadata": {
        "id": "S0ZkQvxdQSYr",
        "colab": {
          "base_uri": "https://localhost:8080/",
          "height": 35
        },
        "outputId": "480c656f-17a7-4852-94e5-c7388784fae1"
      },
      "source": [
        "import numpy as np\n",
        "from tensorflow import keras\n",
        "from keras.datasets import mnist"
      ],
      "execution_count": null,
      "outputs": [
        {
          "output_type": "stream",
          "text": [
            "Using TensorFlow backend.\n"
          ],
          "name": "stderr"
        }
      ]
    },
    {
      "cell_type": "markdown",
      "metadata": {
        "id": "_5FMAJPMXPEp"
      },
      "source": [
        "## 1 \n",
        "### Load Data and Rescale\n",
        "Write a function that loads data, scales the image values by 1/255 and returns train and test sets "
      ]
    },
    {
      "cell_type": "code",
      "metadata": {
        "deletable": false,
        "id": "7PVN7F5LSsqh",
        "nbgrader": {
          "cell_type": "code",
          "checksum": "d6a20868e185c940533e01f394e981bf",
          "grade": false,
          "grade_id": "cell-8e7945a2fa914c65",
          "locked": false,
          "schema_version": 3,
          "solution": true,
          "task": false
        }
      },
      "source": [
        "def load():\n",
        "  \"\"\"\n",
        "  Inputs:\n",
        "    None\n",
        "  \n",
        "  Outputs:\n",
        "    x_train : numpy array, training data shape (60000, 28, 28)\n",
        "    x_test : numpy array, test data shape (10000, 28, 28)\n",
        "    y_train : numpy array, training labels shape (60000, )\n",
        "    y_test : numpy array, training labels shape (10000, )\n",
        "  \"\"\"\n",
        "  \n",
        "  # YOUR CODE HERE\n",
        "  from keras.utils import to_categorical\n",
        "  from keras.preprocessing.image import ImageDataGenerator\n",
        "  (trainX, trainY), (testX, testY) = mnist.load_data()\n",
        "\n",
        "  width, height, channels = trainX.shape[1], trainX.shape[2], 1\n",
        "  trainX = trainX.reshape((trainX.shape[0], width, height, channels))\n",
        "  testX = testX.reshape((testX.shape[0], width, height, channels))\n",
        "\n",
        "  trainY = to_categorical(trainY)\n",
        "  testY = to_categorical(testY)\n",
        "\n",
        "  datagen = ImageDataGenerator(rescale=1.0/255.0)\n",
        " \n",
        "  train_iterator = datagen.flow(trainX, trainY, batch_size=64)\n",
        "  test_iterator = datagen.flow(testX, testY, batch_size=64)\n",
        "  for i,j in train_iterator:\n",
        "    x_train,y_train = i,j\n",
        "  for a,b in test_iterator:\n",
        "    x_test,y_test = a,b\n",
        "  return x_train, x_test, y_train, y_test\n"
      ],
      "execution_count": null,
      "outputs": []
    },
    {
      "cell_type": "code",
      "metadata": {
        "deletable": false,
        "editable": false,
        "id": "ye51A_KCZRid",
        "nbgrader": {
          "cell_type": "code",
          "checksum": "be72ac124d8329879108b9d57bdd977f",
          "grade": true,
          "grade_id": "cell-a887bf40f92702ea",
          "locked": true,
          "points": 5,
          "schema_version": 3,
          "solution": false,
          "task": false
        }
      },
      "source": [
        "data = load()\n",
        "assert data[0].shape == (60000, 28, 28)\n",
        "print('Test passed', '\\U0001F44D')\n"
      ],
      "execution_count": null,
      "outputs": []
    },
    {
      "cell_type": "markdown",
      "metadata": {
        "id": "cgGAB3Wx2KIe"
      },
      "source": [
        "## 2\n",
        "Different numbers consume different amounts of ink to write. So the total intensity of pixels is a feature which can separate different numbers. \n",
        "\n",
        "Write a function to calculate total intensity of pixels"
      ]
    },
    {
      "cell_type": "code",
      "metadata": {
        "deletable": false,
        "id": "YdpWxTaCSuET",
        "nbgrader": {
          "cell_type": "code",
          "checksum": "6ebba20f8ec3bc32658d26a47b7406b0",
          "grade": false,
          "grade_id": "cell-529e6ce8f98a353f",
          "locked": false,
          "schema_version": 3,
          "solution": true,
          "task": false
        }
      },
      "source": [
        "def total_intensity(im):\n",
        "  \"\"\"\n",
        "  Inputs:\n",
        "  im : numpy array of shape (28, 28), image\n",
        "\n",
        "  Outputs:\n",
        "  tot_intensity : int, total intensity of pixels (sum of values of all pixels)\n",
        "  \"\"\"\n",
        "  \n",
        "  # YOUR CODE HERE\n",
        "  \n",
        "  \n",
        "  return tot_intensity"
      ],
      "execution_count": null,
      "outputs": []
    },
    {
      "cell_type": "code",
      "metadata": {
        "deletable": false,
        "editable": false,
        "id": "ratkuDHiS8ft",
        "nbgrader": {
          "cell_type": "code",
          "checksum": "7302fb5e21e1d9e5f251e7d830a1a277",
          "grade": true,
          "grade_id": "cell-776b3468dd622086",
          "locked": true,
          "points": 5,
          "schema_version": 3,
          "solution": false,
          "task": false
        }
      },
      "source": [
        "assert total_intensity(np.zeros((28, 28))) == 0\n",
        "print('Test passed', '\\U0001F44D')\n"
      ],
      "execution_count": null,
      "outputs": []
    },
    {
      "cell_type": "markdown",
      "metadata": {
        "id": "5Bnn1NWl3U_w"
      },
      "source": [
        "## 3\n",
        "Different numbers have different amounts of symmetry about Y axis. If we flip image of a number along the Y axis and subtract it from the original, the image that we see gives us an indication of the level of antisymmetry. Total intensity of this image can be a measure of anitsymmetry.\n",
        "\n",
        "Find antisymmetry about X and Y axes."
      ]
    },
    {
      "cell_type": "code",
      "metadata": {
        "deletable": false,
        "id": "-ynq734pToq6",
        "nbgrader": {
          "cell_type": "code",
          "checksum": "e4519dc0c171a663dd9ad6b24f653421",
          "grade": false,
          "grade_id": "cell-043d67b64b813df1",
          "locked": false,
          "schema_version": 3,
          "solution": true,
          "task": false
        }
      },
      "source": [
        "def antisymmetries(im):\n",
        "  \"\"\"\n",
        "  Inputs:\n",
        "    im : numpy array of shape (28, 28), image\n",
        "\n",
        "  Outputs:\n",
        "    x_as : int, antisymmetry measure along x-axis (along width)\n",
        "    y_as : int, antisymmetry measure along y-axis (along height)\n",
        "  \"\"\"\n",
        "  \n",
        "  # YOUR CODE HERE\n",
        "  \n",
        "  \n",
        "  return x_as, y_as"
      ],
      "execution_count": null,
      "outputs": []
    },
    {
      "cell_type": "code",
      "metadata": {
        "deletable": false,
        "editable": false,
        "id": "gHRwMnZa7XQ7",
        "nbgrader": {
          "cell_type": "code",
          "checksum": "4f57aa7e85e7d631b3c71652740494c3",
          "grade": true,
          "grade_id": "cell-eabc516d174a33aa",
          "locked": true,
          "points": 5,
          "schema_version": 3,
          "solution": false,
          "task": false
        }
      },
      "source": [
        "assert antisymmetries(np.ones((28, 28))) == (0, 0)\n",
        "print('Test passed', '\\U0001F44D')\n"
      ],
      "execution_count": null,
      "outputs": []
    },
    {
      "cell_type": "markdown",
      "metadata": {
        "id": "VRhjGsau8RIQ"
      },
      "source": [
        "## 4 \n",
        "Create matrix of features for each image. Consider total intensity, and antisymmetries about x and y as the features. (Also take into account the bias term)"
      ]
    },
    {
      "cell_type": "code",
      "metadata": {
        "deletable": false,
        "id": "u3u1M7sd7mLj",
        "nbgrader": {
          "cell_type": "code",
          "checksum": "e34d66848d3b76fe9bb514778f2fd160",
          "grade": false,
          "grade_id": "cell-e6c58ace935183ba",
          "locked": false,
          "schema_version": 3,
          "solution": true,
          "task": false
        }
      },
      "source": [
        "def createA(x):\n",
        "  \"\"\"\n",
        "  Inputs:\n",
        "    x : numpy array of shape (N, 28, 28) , set of images\n",
        "  \n",
        "  Outputs:\n",
        "    A : numpy array of shape (N, 4), array of features corresponding to each image\n",
        "  \"\"\"\n",
        "  \n",
        "  # YOUR CODE HERE\n",
        "  \n",
        "  \n",
        "  return A"
      ],
      "execution_count": null,
      "outputs": []
    },
    {
      "cell_type": "code",
      "metadata": {
        "deletable": false,
        "editable": false,
        "id": "K7HfPZKLRRyU",
        "nbgrader": {
          "cell_type": "code",
          "checksum": "c3fffa3f4a8b691008c7c6aabe77534a",
          "grade": true,
          "grade_id": "cell-267844b01342c9d3",
          "locked": true,
          "points": 5,
          "schema_version": 3,
          "solution": false,
          "task": false
        }
      },
      "source": [
        "x_train = load()[0]\n",
        "A = createA(x_train[: 5])\n",
        "assert A.shape == (5, 4)\n",
        "print('Test passed', '\\U0001F44D')\n"
      ],
      "execution_count": null,
      "outputs": []
    },
    {
      "cell_type": "markdown",
      "metadata": {
        "id": "VfqAszGiCG2U"
      },
      "source": [
        "## 5\n",
        "Train a linear model and find accuracy \n",
        "- Create A matrix\n",
        "- One-hot encode labels\n",
        "- Train using pseudo-inverse and min-norm solutions\n",
        "- Predict using trained model and find accuracy\n"
      ]
    },
    {
      "cell_type": "code",
      "metadata": {
        "deletable": false,
        "id": "IAQlzIM--yrh",
        "nbgrader": {
          "cell_type": "code",
          "checksum": "4e757d81e8e8361bc5e7d433d1a650ff",
          "grade": false,
          "grade_id": "cell-fcf80d17d94b151f",
          "locked": false,
          "schema_version": 3,
          "solution": true,
          "task": false
        }
      },
      "source": [
        "def train_w(x_train, y_train):\n",
        "  \"\"\"\n",
        "  Inputs:\n",
        "    x_train : Numpy array of images (N, 28, 28)\n",
        "    y_train : Numpy array of labels (N,)\n",
        "  Outputs:\n",
        "    w : numpy array (4, )\n",
        "    train_accuracy : float (between 0 and 1)\n",
        "  \"\"\"\n",
        "  \n",
        "  # YOUR CODE HERE\n",
        "  \n",
        "  \n",
        "  return w, train_accuracy"
      ],
      "execution_count": null,
      "outputs": []
    },
    {
      "cell_type": "code",
      "metadata": {
        "deletable": false,
        "editable": false,
        "id": "MB5qRVgq-6EK",
        "nbgrader": {
          "cell_type": "code",
          "checksum": "5aca8bd37f1788c9c28a8f8b0e722fc5",
          "grade": true,
          "grade_id": "cell-48d2d1cdd5aa22d1",
          "locked": true,
          "points": 5,
          "schema_version": 3,
          "solution": false,
          "task": false
        }
      },
      "source": [
        "x_train, x_test, y_train, y_test = load()\n",
        "fives_and_zeros = (np.logical_or(y_train == 5, y_train == 0))\n",
        "x_train_fives_and_zeros = x_train[fives_and_zeros]\n",
        "y_train_fives_and_zeros = y_train[fives_and_zeros]\n",
        "w, train_accuracy = train_w(x_train_fives_and_zeros, y_train_fives_and_zeros)\n",
        "\n",
        "assert train_accuracy > 0.70  ## Better than random guess\n",
        "print('Test passed', '\\U0001F44D')\n"
      ],
      "execution_count": null,
      "outputs": []
    }
  ]
}