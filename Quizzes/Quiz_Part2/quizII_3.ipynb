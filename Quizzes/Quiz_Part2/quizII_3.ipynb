{
  "nbformat": 4,
  "nbformat_minor": 0,
  "metadata": {
    "colab": {
      "name": "Tanmay_Mishra_quizII-3.ipynb",
      "provenance": [],
      "collapsed_sections": []
    },
    "kernelspec": {
      "display_name": "Python 3",
      "language": "python",
      "name": "python3"
    },
    "language_info": {
      "codemirror_mode": {
        "name": "ipython",
        "version": 3
      },
      "file_extension": ".py",
      "mimetype": "text/x-python",
      "name": "python",
      "nbconvert_exporter": "python",
      "pygments_lexer": "ipython3",
      "version": "3.7.3"
    }
  },
  "cells": [
    {
      "cell_type": "markdown",
      "metadata": {
        "id": "0SE2LA6DERwr"
      },
      "source": [
        "Before you turn this problem in, make sure everything runs as expected. First, **Restart and Run All** (in the menubar in colab, select Runtime$\\rightarrow$Restart and Run all) \n",
        "\n",
        "Make sure you only fill in any place that says `YOUR CODE HERE` and do not make any other changes to the code. If you add any code cells for your own testing. Please delete them before submission."
      ]
    },
    {
      "cell_type": "markdown",
      "metadata": {
        "id": "8mFi6dWEERws"
      },
      "source": [
        "---"
      ]
    },
    {
      "cell_type": "markdown",
      "metadata": {
        "id": "qw6YJKWsVaYs"
      },
      "source": [
        "General Instructions:\n",
        "- By array, I mean numpy array\n",
        "- By matrix, I mean a numpy array of 2 dimensions"
      ]
    },
    {
      "cell_type": "markdown",
      "metadata": {
        "id": "qx2bzzerVgfK"
      },
      "source": [
        "### 1\n",
        "Given an array of ints length, return an array with the elements \"rotated left\" so {1, 2, 3} yields {2, 3, 1}.\n",
        "\n",
        "\n",
        "rotate_left([1, 2, 3]) → [2, 3, 1] <br>\n",
        "rotate_left([5, 11, 9]) → [11, 9, 5] <br>\n",
        "rotate_left([7, 0, 0, 1]) → [0, 0, 1, 7] "
      ]
    },
    {
      "cell_type": "code",
      "metadata": {
        "deletable": false,
        "id": "Debc8OKBTKhf",
        "nbgrader": {
          "cell_type": "code",
          "checksum": "08f8c52d7e5a42c1d4d42cf8d780e3f2",
          "grade": false,
          "grade_id": "cell-7192257fe41672e9",
          "locked": false,
          "schema_version": 3,
          "solution": true,
          "task": false
        }
      },
      "source": [
        "import numpy as np\n",
        "def rotate_left(num):\n",
        "  \"\"\"\n",
        "  Inputs:\n",
        "    num : numpy array \n",
        "  \n",
        "  Outputs:\n",
        "    num_rotated : numpy array\n",
        "  \"\"\"\n",
        "  \n",
        "  # YOUR CODE HERE\n",
        "  num_rotated = np.concatenate([num[1:],num[:1]])\n",
        "  \n",
        "  return num_rotated\n"
      ],
      "execution_count": null,
      "outputs": []
    },
    {
      "cell_type": "code",
      "metadata": {
        "deletable": false,
        "editable": false,
        "nbgrader": {
          "cell_type": "code",
          "checksum": "25f69d70928891ff856c31118783b45e",
          "grade": true,
          "grade_id": "cell-7e19fb61098c249e",
          "locked": true,
          "points": 5,
          "schema_version": 3,
          "solution": false,
          "task": false
        },
        "id": "8MrY5h36ERw0",
        "colab": {
          "base_uri": "https://localhost:8080/",
          "height": 33
        },
        "outputId": "2de4a36e-598c-44d2-eb46-0ae738e93286"
      },
      "source": [
        "num = np.array([2, 4, 8, 2, 88, 3, 4])\n",
        "np.all(rotate_left(num) == np.array([ 4,  8,  2, 88,  3,  4,  2]))\n",
        "print('Test passed', '\\U0001F44D')\n"
      ],
      "execution_count": null,
      "outputs": [
        {
          "output_type": "stream",
          "text": [
            "Test passed 👍\n"
          ],
          "name": "stdout"
        }
      ]
    },
    {
      "cell_type": "markdown",
      "metadata": {
        "id": "ksJwtSkDm72I"
      },
      "source": [
        "### 2\n",
        "Return the number of times that the string \"code\" appears anywhere in the given string, except we'll accept any letter for the 'd', so \"cope\" and \"cooe\" count.\n",
        "\n",
        "\n",
        "count_code('aaacodebbb') → 1 <br>\n",
        "count_code('codexxcode') → 2 <br>\n",
        "count_code('cozexxcope') → 2"
      ]
    },
    {
      "cell_type": "code",
      "metadata": {
        "deletable": false,
        "id": "4NpAJwimUWLL",
        "nbgrader": {
          "cell_type": "code",
          "checksum": "8a065b084a37574cfb962bde2e3c5a11",
          "grade": false,
          "grade_id": "cell-8c217996ba4c3e8f",
          "locked": false,
          "schema_version": 3,
          "solution": true,
          "task": false
        }
      },
      "source": [
        "import numpy as np\n",
        "\n",
        "def count_code(st):\n",
        "  \"\"\"\n",
        "  Inputs:\n",
        "      st: string\n",
        "  Outputs:\n",
        "      cnt: int, number of times 'code' appears in st according to the given specification in the question\n",
        "  \"\"\"\n",
        "  \n",
        "  # YOUR CODE HERE\n",
        "  x = st.split('co')\n",
        "  l = [i[1:] for i in x]\n",
        "  s = 'co'.join(l)\n",
        "  cnt = s.count('coe')\n",
        "  \n",
        "  return cnt"
      ],
      "execution_count": null,
      "outputs": []
    },
    {
      "cell_type": "code",
      "metadata": {
        "deletable": false,
        "editable": false,
        "nbgrader": {
          "cell_type": "code",
          "checksum": "5f4baf52ed5c5bb2e5a4bae976c3e659",
          "grade": true,
          "grade_id": "cell-c976c83c64b32e11",
          "locked": true,
          "points": 5,
          "schema_version": 3,
          "solution": false,
          "task": false
        },
        "id": "3WPj4A7IERw_",
        "colab": {
          "base_uri": "https://localhost:8080/",
          "height": 33
        },
        "outputId": "bc5e4c41-3e3d-4ff5-d6d6-b1752ab1fa19"
      },
      "source": [
        "st = 'aaacodebbb'\n",
        "assert count_code(st) == 1\n",
        "print('Test passed', '\\U0001F44D')\n"
      ],
      "execution_count": null,
      "outputs": [
        {
          "output_type": "stream",
          "text": [
            "Test passed 👍\n"
          ],
          "name": "stdout"
        }
      ]
    },
    {
      "cell_type": "markdown",
      "metadata": {
        "id": "f5CV-roHakcD"
      },
      "source": [
        "### 3\n",
        "Most frequently occuring element in an array\n",
        "\n",
        "Given an array, find the most frequent element in it. If there are multiple elements that appear maximum number of times, print any one of them.\n",
        "\n",
        "Input : arr = [1, 3, 2, 1, 4, 1]\n",
        "Output : 1"
      ]
    },
    {
      "cell_type": "code",
      "metadata": {
        "deletable": false,
        "id": "a8SqPu-vUehH",
        "nbgrader": {
          "cell_type": "code",
          "checksum": "fd00a544932aede366df75e7f5007ba9",
          "grade": false,
          "grade_id": "cell-99d7e1295c020be0",
          "locked": false,
          "schema_version": 3,
          "solution": true,
          "task": false
        }
      },
      "source": [
        "def most_frequent(arr):\n",
        "    \"\"\"\n",
        "    Inputs:\n",
        "      arr : numpy array of ints\n",
        "\n",
        "    Outputs:\n",
        "      most_freq_el : int, most frequent element in array arr\n",
        "\n",
        "    \"\"\"  \n",
        "    \n",
        "    # YOUR CODE HERE\n",
        "    most_freq_el = np.bincount(arr).argmax()\n",
        "    \n",
        "    return most_freq_el"
      ],
      "execution_count": null,
      "outputs": []
    },
    {
      "cell_type": "code",
      "metadata": {
        "deletable": false,
        "editable": false,
        "nbgrader": {
          "cell_type": "code",
          "checksum": "8fa0109e1d48239ab62768cfce62a89c",
          "grade": true,
          "grade_id": "cell-0c501da46598a88e",
          "locked": true,
          "points": 5,
          "schema_version": 3,
          "solution": false,
          "task": false
        },
        "id": "PntqG2E0ERxK",
        "colab": {
          "base_uri": "https://localhost:8080/",
          "height": 33
        },
        "outputId": "f0af80a0-a198-44dd-cf92-3c4fdc49dc62"
      },
      "source": [
        "arr = [ 1, 5, 2, 1, 3, 2, 1]  \n",
        "assert most_frequent(arr) == 1\n",
        "print('Test passed', '\\U0001F44D')\n"
      ],
      "execution_count": null,
      "outputs": [
        {
          "output_type": "stream",
          "text": [
            "Test passed 👍\n"
          ],
          "name": "stdout"
        }
      ]
    },
    {
      "cell_type": "markdown",
      "metadata": {
        "id": "YPP0w13wA9PR"
      },
      "source": [
        "### 4\n",
        "How to find all the local maxima (or peaks) in a 1d array?\n",
        "\n",
        "Find all the peaks in a 1D numpy array a. Peaks are points surrounded by smaller values on both sides. First and last values of an array cannot be peaks\n",
        "\n",
        "Input:\n",
        "\n",
        "arr = [1, 3, 7, 1, 2, 6, 0, 1]\n",
        "\n",
        "Desired Output: [2, 5]"
      ]
    },
    {
      "cell_type": "code",
      "metadata": {
        "deletable": false,
        "id": "n15pWoZbl-4y",
        "nbgrader": {
          "cell_type": "code",
          "checksum": "b82e9d0481f6fa3236e5875024b3fafc",
          "grade": false,
          "grade_id": "cell-a3a617509b6c3119",
          "locked": false,
          "schema_version": 3,
          "solution": true,
          "task": false
        }
      },
      "source": [
        "def local_maxima(arr):\n",
        "    \"\"\"\n",
        "    Inputs:\n",
        "        arr: numpy array\n",
        "    Outputs:\n",
        "        peak_inds : numpy array of indices of arr where peaks occur\n",
        "    \"\"\"\n",
        "    \n",
        "    # YOUR CODE HERE\n",
        "    lst = []\n",
        "    for i in range(1,len(arr)-1):\n",
        "        if arr[i] > arr[i-1] and arr[i] > arr[i+1]:\n",
        "            lst.append(i)\n",
        "    peak_inds = np.array(lst)\n",
        "    \n",
        "    return peak_inds"
      ],
      "execution_count": null,
      "outputs": []
    },
    {
      "cell_type": "code",
      "metadata": {
        "deletable": false,
        "editable": false,
        "nbgrader": {
          "cell_type": "code",
          "checksum": "95e5cdaa875edfb1577b4b3b08c8eb72",
          "grade": true,
          "grade_id": "cell-8b8d48b1afb4b815",
          "locked": true,
          "points": 5,
          "schema_version": 3,
          "solution": false,
          "task": false
        },
        "id": "TZbYkBcPERxT",
        "colab": {
          "base_uri": "https://localhost:8080/",
          "height": 33
        },
        "outputId": "bdeb2f93-f4f9-437d-f24a-3c07cb309bbb"
      },
      "source": [
        "assert np.all(local_maxima(np.array([1, 3, 7, 1, 2, 6, 0, 1])) == np.array([2, 5]))\n",
        "print('Test passed', '\\U0001F44D')\n"
      ],
      "execution_count": null,
      "outputs": [
        {
          "output_type": "stream",
          "text": [
            "Test passed 👍\n"
          ],
          "name": "stdout"
        }
      ]
    },
    {
      "cell_type": "markdown",
      "metadata": {
        "id": "m6P7-tNYBUz7"
      },
      "source": [
        "### 5\n",
        "Compute the moving average of n elements of a numpy array <br>\n",
        "Example:\n",
        "\n",
        "array:  [8 8 3 7 7 0 4 2 5 2] <br>\n",
        "moving average for n = 3 :  [ 6.33  6.    5.67  4.67  3.67  2.    3.67  3.  ]"
      ]
    },
    {
      "cell_type": "code",
      "metadata": {
        "deletable": false,
        "nbgrader": {
          "cell_type": "code",
          "checksum": "85ba8f11e15bcaae39b5234055ab125b",
          "grade": false,
          "grade_id": "cell-bae1e1468fb9a800",
          "locked": false,
          "schema_version": 3,
          "solution": true,
          "task": false
        },
        "id": "6NZNpHbfERxX"
      },
      "source": [
        "def moving_avg(arr, n):\n",
        "    \"\"\"\n",
        "    Inputs:\n",
        "        arr: numpy array\n",
        "        n : int, number of elements to consider while computing moving avg\n",
        "    Outputs:\n",
        "        moving_avg_arr : numpy array, contains moving avgs\n",
        "    \"\"\"\n",
        "    \n",
        "    # YOUR CODE HERE\n",
        "    l = []\n",
        "    for i in range(len(arr)-n+1):\n",
        "        x = arr[i:i+n]\n",
        "        l.append(sum(x)/n)\n",
        "    moving_avg_arr = np.array(l)\n",
        "    \n",
        "    return moving_avg_arr\n",
        "    "
      ],
      "execution_count": null,
      "outputs": []
    },
    {
      "cell_type": "code",
      "metadata": {
        "deletable": false,
        "editable": false,
        "id": "jXEcmrOBBYFL",
        "nbgrader": {
          "cell_type": "code",
          "checksum": "7ca6c6f42c467cd42fafe8a7e2989e9f",
          "grade": true,
          "grade_id": "cell-f11b91c4e232dd4a",
          "locked": true,
          "points": 5,
          "schema_version": 3,
          "solution": false,
          "task": false
        },
        "colab": {
          "base_uri": "https://localhost:8080/",
          "height": 33
        },
        "outputId": "b4094e9f-5c7f-4084-c1b7-38d724874051"
      },
      "source": [
        "assert np.all(np.isclose(moving_avg(np.array([8, 8, 3, 7, 7, 0, 4, 2, 5, 2]), 3), np.array([6.33333333, 6. , 5.66666667, 4.66666667, 3.66666667, 2. , 3.66666667, 3.]), atol = 0.001))\n",
        "print('Test passed', '\\U0001F44D')\n"
      ],
      "execution_count": null,
      "outputs": [
        {
          "output_type": "stream",
          "text": [
            "Test passed 👍\n"
          ],
          "name": "stdout"
        }
      ]
    }
  ]
}