{
  "nbformat": 4,
  "nbformat_minor": 0,
  "metadata": {
    "colab": {
      "name": "Tanmay_Mishra_quizII-4.ipynb",
      "provenance": []
    },
    "kernelspec": {
      "display_name": "Python 3",
      "language": "python",
      "name": "python3"
    },
    "language_info": {
      "codemirror_mode": {
        "name": "ipython",
        "version": 3
      },
      "file_extension": ".py",
      "mimetype": "text/x-python",
      "name": "python",
      "nbconvert_exporter": "python",
      "pygments_lexer": "ipython3",
      "version": "3.7.3"
    }
  },
  "cells": [
    {
      "cell_type": "markdown",
      "metadata": {
        "id": "Ro-y7JUdWFMc"
      },
      "source": [
        "Before you turn this problem in, make sure everything runs as expected. First, **Restart and Run All** (in the menubar in colab, select Runtime$\\rightarrow$Restart and Run all) \n",
        "\n",
        "Make sure you only fill in any place that says `YOUR CODE HERE` and do not make any other changes to the code. If you add any code cells for your own testing. Please delete them before submission."
      ]
    },
    {
      "cell_type": "markdown",
      "metadata": {
        "id": "86NCxzhDWFMe"
      },
      "source": [
        "---"
      ]
    },
    {
      "cell_type": "code",
      "metadata": {
        "id": "NbgJBEI3WFMg"
      },
      "source": [
        "import numpy as np"
      ],
      "execution_count": null,
      "outputs": []
    },
    {
      "cell_type": "markdown",
      "metadata": {
        "id": "CcAtxiPAEXFT"
      },
      "source": [
        "## 1"
      ]
    },
    {
      "cell_type": "markdown",
      "metadata": {
        "id": "MgtdbPLSEfTs"
      },
      "source": [
        "### Micro Average Precision\n",
        "Given y_true and y_pred, find the micro averaged precision score.\n",
        "\n",
        "micro_precision = $\\frac{TP_{\\text{all}}}{TP_{\\text{all}} + FP_{\\text{all}}} $\n",
        "\n",
        "where <br>\n",
        "$TP_{\\text{all}}$ is the total number of true positive predictions considering all classes and <br>\n",
        "$FP_{\\text{all}}$ is the total number of false positive predictions considering all classes"
      ]
    },
    {
      "cell_type": "code",
      "metadata": {
        "deletable": false,
        "id": "2QuP6zUBEROS",
        "nbgrader": {
          "cell_type": "code",
          "checksum": "ccba45fbd8ce5bcc9fbf323a38dc098e",
          "grade": false,
          "grade_id": "cell-5a15a882cc098e02",
          "locked": false,
          "schema_version": 3,
          "solution": true,
          "task": false
        }
      },
      "source": [
        "def micro_avg_precision(y_true, y_pred):\n",
        "  \"\"\"\n",
        "  Inputs:\n",
        "    y_true: 1-D numpy array, true labels\n",
        "    y_pred: 1-D numpy array, predicted labels\n",
        "  Outputs:\n",
        "    micro_precision: float\n",
        "  \"\"\"\n",
        "  \n",
        "  # YOUR CODE HERE\n",
        "  from sklearn.metrics import precision_score\n",
        "  micro_precision = precision_score(y_true,y_pred,average='micro')\n",
        "  \n",
        "  return micro_precision"
      ],
      "execution_count": null,
      "outputs": []
    },
    {
      "cell_type": "code",
      "metadata": {
        "deletable": false,
        "editable": false,
        "nbgrader": {
          "cell_type": "code",
          "checksum": "b5d4a1d453240b516fdbd82f10f2ce9c",
          "grade": true,
          "grade_id": "cell-b75352c8cdb22c1f",
          "locked": true,
          "points": 5,
          "schema_version": 3,
          "solution": false,
          "task": false
        },
        "id": "ejF-6FpbWFM1",
        "colab": {
          "base_uri": "https://localhost:8080/",
          "height": 35
        },
        "outputId": "d0366b7c-8dac-4e10-a4d5-4ef57437dc9a"
      },
      "source": [
        "y_true = np.array(['cat', 'dog', 'cat', 'human'])\n",
        "y_pred = np.array(['cat', 'human', 'dog', 'cat'])\n",
        "assert micro_avg_precision(y_true, y_pred) == 0.25\n",
        "print('Test passed', '\\U0001F44D')\n"
      ],
      "execution_count": null,
      "outputs": [
        {
          "output_type": "stream",
          "text": [
            "Test passed 👍\n"
          ],
          "name": "stdout"
        }
      ]
    },
    {
      "cell_type": "markdown",
      "metadata": {
        "id": "W9l0ZyPEJ-VY"
      },
      "source": [
        "## 2"
      ]
    },
    {
      "cell_type": "markdown",
      "metadata": {
        "id": "QOuEsfAsJ_2u"
      },
      "source": [
        "### Macro Average Recall\n",
        "Given y_true and y_pred, find the macro averaged recall score where macro averaged recall is the unweighted average of the recall score for each class."
      ]
    },
    {
      "cell_type": "code",
      "metadata": {
        "deletable": false,
        "id": "cZIpWlTbKp1t",
        "nbgrader": {
          "cell_type": "code",
          "checksum": "5f9bb64dfd204de94de0c0df6035a89e",
          "grade": false,
          "grade_id": "cell-8431a49161fa30ed",
          "locked": false,
          "schema_version": 3,
          "solution": true,
          "task": false
        }
      },
      "source": [
        "def macro_avg_recall(y_true, y_pred):\n",
        "  \"\"\"\n",
        "  Inputs:\n",
        "    y_true: 1-D numpy array, true labels\n",
        "    y_pred: 1-D numpy array, predicted labels\n",
        "  Outputs:\n",
        "    macro_all: float\n",
        "  \"\"\"\n",
        "  \n",
        "  # YOUR CODE HERE\n",
        "  from sklearn.metrics import recall_score\n",
        "  macro_recall = recall_score(y_true,y_pred,average='macro')\n",
        "  \n",
        "  return macro_recall"
      ],
      "execution_count": null,
      "outputs": []
    },
    {
      "cell_type": "code",
      "metadata": {
        "deletable": false,
        "editable": false,
        "nbgrader": {
          "cell_type": "code",
          "checksum": "79de846c37513d78708896c74e97ceb4",
          "grade": true,
          "grade_id": "cell-fc0e57143e4c9af8",
          "locked": true,
          "points": 5,
          "schema_version": 3,
          "solution": false,
          "task": false
        },
        "id": "UcQu6HuiWFNH",
        "colab": {
          "base_uri": "https://localhost:8080/",
          "height": 35
        },
        "outputId": "b5dc050b-66f5-4ed5-cb2b-d72719181458"
      },
      "source": [
        "y_true = np.array(['cat', 'dog', 'cat', 'human'])\n",
        "y_pred = np.array(['cat', 'human', 'dog', 'cat'])\n",
        "assert np.round(macro_avg_recall(y_true, y_pred), 2) == 0.17\n",
        "print('Test passed', '\\U0001F44D')\n",
        "\n"
      ],
      "execution_count": null,
      "outputs": [
        {
          "output_type": "stream",
          "text": [
            "Test passed 👍\n"
          ],
          "name": "stdout"
        }
      ]
    },
    {
      "cell_type": "markdown",
      "metadata": {
        "id": "MQ7W6U6aLtRk"
      },
      "source": [
        "## 3"
      ]
    },
    {
      "cell_type": "markdown",
      "metadata": {
        "id": "tMT8Jd1KLuv2"
      },
      "source": [
        "### Weighted F1 Score\n",
        "Given y_true and y_pred, find the wieghted f1 score where the weighted f1 score is the weighted average of the f1 score of each class weighted by number of true samples of that class."
      ]
    },
    {
      "cell_type": "code",
      "metadata": {
        "deletable": false,
        "id": "nSd2IeYvIrsB",
        "nbgrader": {
          "cell_type": "code",
          "checksum": "d54f798badf02bc08c77a9a60f9efb6b",
          "grade": false,
          "grade_id": "cell-f4359c7dfa348934",
          "locked": false,
          "schema_version": 3,
          "solution": true,
          "task": false
        }
      },
      "source": [
        "def weighted_avg_f1(y_true, y_pred):\n",
        "  \"\"\"\n",
        "  Inputs:\n",
        "    y_true: 1-D numpy array, true labels\n",
        "    y_pred: 1-D numpy array, predicted labels\n",
        "  Outputs:\n",
        "    weighted_f1: float\n",
        "  \"\"\"\n",
        "  \n",
        "  # YOUR CODE HERE\n",
        "  from sklearn.metrics import f1_score\n",
        "  weighted_f1 = f1_score(y_true,y_pred,average='weighted')\n",
        "  \n",
        "  return weighted_f1"
      ],
      "execution_count": null,
      "outputs": []
    },
    {
      "cell_type": "code",
      "metadata": {
        "deletable": false,
        "editable": false,
        "nbgrader": {
          "cell_type": "code",
          "checksum": "7bfad2fad8e24621fbef74d1dd202453",
          "grade": true,
          "grade_id": "cell-3590ecd4d88051f7",
          "locked": true,
          "points": 5,
          "schema_version": 3,
          "solution": false,
          "task": false
        },
        "id": "5jRRUf_GWFNf",
        "colab": {
          "base_uri": "https://localhost:8080/",
          "height": 35
        },
        "outputId": "871618dc-a757-4a16-f0b1-bbbe3586a620"
      },
      "source": [
        "y_true = np.array(['cat', 'dog', 'cat', 'human'])\n",
        "y_pred = np.array(['cat', 'human', 'dog', 'cat'])\n",
        "assert weighted_avg_f1(y_true, y_pred) == 0.25\n",
        "print('Test passed', '\\U0001F44D')\n",
        "\n"
      ],
      "execution_count": null,
      "outputs": [
        {
          "output_type": "stream",
          "text": [
            "Test passed 👍\n"
          ],
          "name": "stdout"
        }
      ]
    },
    {
      "cell_type": "markdown",
      "metadata": {
        "id": "hSET8Zr1NQCV"
      },
      "source": [
        "## 4"
      ]
    },
    {
      "cell_type": "markdown",
      "metadata": {
        "id": "l4YZv48KNREL"
      },
      "source": [
        "### Multi Label Confusion Matrix\n",
        "Given a multi-label ground truth and predictions, create a multi-label confusion matrix."
      ]
    },
    {
      "cell_type": "code",
      "metadata": {
        "deletable": false,
        "id": "qXl-3WfaI6SV",
        "nbgrader": {
          "cell_type": "code",
          "checksum": "c18552125f91b3259caca3897ec33f67",
          "grade": false,
          "grade_id": "cell-b550bf4f356e9e65",
          "locked": false,
          "schema_version": 3,
          "solution": true,
          "task": false
        }
      },
      "source": [
        "def multi_label_confusion_matrix(y_true, y_pred):\n",
        "  \"\"\"\n",
        "  Inputs:\n",
        "    y_true : numpy array of shape (N, C) where N is number of samples and C is number of classes. (C is multi-hot, 1 if label is present, 0 otherwise)\n",
        "    y_pred : numpy array of shape (N, C) where N is number of samples and C is number of classes. (C is multi-hot, 1 if label is present, 0 otherwise)\n",
        "  \n",
        "  Outputs:\n",
        "    ml_cm : numpy array of shape (C, 2, 2) where C is number of classes and each 2x2 matrix is a confusion matrix for that class where rows are true labels and columns are predicted labels. \n",
        "            Order of classes should be sorted by their index in y_true/y_pred\n",
        "  \"\"\"\n",
        "  \n",
        "  # YOUR CODE HERE\n",
        "  from sklearn.metrics import multilabel_confusion_matrix\n",
        "  ml_cm = multilabel_confusion_matrix(y_true, y_pred)\n",
        "  \n",
        "  return ml_cm\n"
      ],
      "execution_count": null,
      "outputs": []
    },
    {
      "cell_type": "code",
      "metadata": {
        "deletable": false,
        "editable": false,
        "id": "p7NT_3tgJGvB",
        "nbgrader": {
          "cell_type": "code",
          "checksum": "236d929ee60308c171e4b45583b67726",
          "grade": true,
          "grade_id": "cell-51413a727505af1c",
          "locked": true,
          "points": 5,
          "schema_version": 3,
          "solution": false,
          "task": false
        },
        "colab": {
          "base_uri": "https://localhost:8080/",
          "height": 35
        },
        "outputId": "1a11aac1-d4cc-4f4b-badf-d8886a25e961"
      },
      "source": [
        "y_true = np.array([[1, 0, 1],\n",
        "                   [0, 1, 0]])\n",
        "y_pred = y_pred = np.array([[1, 0, 0],\n",
        "                 [0, 1, 1]])\n",
        "assert np.all(multi_label_confusion_matrix(y_true, y_pred) == np.array([[[1, 0],[0, 1]],[[1, 0],[0, 1]],[[0, 1],[1, 0]]]))\n",
        "print('Test passed', '\\U0001F44D')\n",
        "\n"
      ],
      "execution_count": null,
      "outputs": [
        {
          "output_type": "stream",
          "text": [
            "Test passed 👍\n"
          ],
          "name": "stdout"
        }
      ]
    },
    {
      "cell_type": "markdown",
      "metadata": {
        "id": "N-98fvieT6PL"
      },
      "source": [
        "## 5"
      ]
    },
    {
      "cell_type": "markdown",
      "metadata": {
        "id": "Bw05JALkT5I8"
      },
      "source": [
        "### Hamming Score\n",
        "Hamming Score or Hamming Loss is the ratio of total number of incorrect label predictions and the total number of label predictions for a multi-label classification problem. (https://en.wikipedia.org/wiki/Multi-label_classification#Statistics_and_evaluation_metrics"
      ]
    },
    {
      "cell_type": "code",
      "metadata": {
        "deletable": false,
        "id": "B0ZJl4kpT2Xs",
        "nbgrader": {
          "cell_type": "code",
          "checksum": "524e7db27c981254f4147a44c7c5435b",
          "grade": false,
          "grade_id": "cell-7f827bcaac0f444b",
          "locked": false,
          "schema_version": 3,
          "solution": true,
          "task": false
        }
      },
      "source": [
        "def hamming_score(y_true, y_pred):\n",
        "  \"\"\"\n",
        "  Inputs:\n",
        "    y_true : numpy array of shape (N, C) where N is number of samples and C is number of classes. (C is multi-hot, 1 if label is present, 0 otherwise)\n",
        "    y_pred : numpy array of shape (N, C) where N is number of samples and C is number of classes. (C is multi-hot, 1 if label is present, 0 otherwise)\n",
        "\n",
        "  Outputs:\n",
        "    h_loss : float, hamming score\n",
        "  \"\"\"\n",
        "  \n",
        "  # YOUR CODE HERE\n",
        "  from sklearn.metrics import hamming_loss\n",
        "  h_loss = hamming_loss(y_true,y_pred)\n",
        "  \n",
        "  return h_loss\n"
      ],
      "execution_count": null,
      "outputs": []
    },
    {
      "cell_type": "code",
      "metadata": {
        "deletable": false,
        "editable": false,
        "id": "RFbUQ7CXT3GJ",
        "nbgrader": {
          "cell_type": "code",
          "checksum": "95a9b1f04ab2221ace5447e6b42d8167",
          "grade": true,
          "grade_id": "cell-63323cf2023fb2c9",
          "locked": true,
          "points": 5,
          "schema_version": 3,
          "solution": false,
          "task": false
        },
        "colab": {
          "base_uri": "https://localhost:8080/",
          "height": 35
        },
        "outputId": "9f5dc291-46a1-4197-fc04-b703bfb8c491"
      },
      "source": [
        "y_true = np.array([[0, 1], [1, 1]])\n",
        "y_pred = np.zeros((2, 2))\n",
        "assert hamming_score(y_true, y_pred) == 0.75\n",
        "print('Test passed', '\\U0001F44D')\n"
      ],
      "execution_count": null,
      "outputs": [
        {
          "output_type": "stream",
          "text": [
            "Test passed 👍\n"
          ],
          "name": "stdout"
        }
      ]
    },
    {
      "cell_type": "code",
      "metadata": {
        "id": "5bp-uNaOWFOP"
      },
      "source": [
        ""
      ],
      "execution_count": null,
      "outputs": []
    }
  ]
}