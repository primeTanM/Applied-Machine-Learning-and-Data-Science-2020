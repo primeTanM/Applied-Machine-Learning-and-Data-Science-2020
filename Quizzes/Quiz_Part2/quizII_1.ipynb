{
  "nbformat": 4,
  "nbformat_minor": 0,
  "metadata": {
    "kernelspec": {
      "display_name": "Python 3",
      "language": "python",
      "name": "python3"
    },
    "language_info": {
      "codemirror_mode": {
        "name": "ipython",
        "version": 3
      },
      "file_extension": ".py",
      "mimetype": "text/x-python",
      "name": "python",
      "nbconvert_exporter": "python",
      "pygments_lexer": "ipython3",
      "version": "3.7.3"
    },
    "colab": {
      "name": "Copy of Tanmay_Mishra_quizII-1.ipynb",
      "provenance": [],
      "collapsed_sections": []
    }
  },
  "cells": [
    {
      "cell_type": "markdown",
      "metadata": {
        "id": "ng2hU1G6iOJn"
      },
      "source": [
        "Before you turn this problem in, make sure everything runs as expected. First, **Restart and Run All** (in the menubar in colab, select Runtime$\\rightarrow$Restart and Run all) \n",
        "\n",
        "Make sure you only fill in any place that says `YOUR CODE HERE` and do not make any other changes to the code.<br> If you add any code cells for your own testing. Please delete them before submission."
      ]
    },
    {
      "cell_type": "markdown",
      "metadata": {
        "id": "19exUuQmiOJo"
      },
      "source": [
        "---"
      ]
    },
    {
      "cell_type": "code",
      "metadata": {
        "id": "4MIvo5pziOJp"
      },
      "source": [
        "import math"
      ],
      "execution_count": null,
      "outputs": []
    },
    {
      "cell_type": "markdown",
      "metadata": {
        "id": "CI0Je-jNiOJv"
      },
      "source": [
        "- Five marks for each question."
      ]
    },
    {
      "cell_type": "markdown",
      "metadata": {
        "id": "iHONKblkiOJw"
      },
      "source": [
        "## Q1"
      ]
    },
    {
      "cell_type": "markdown",
      "metadata": {
        "id": "dOn52JOQiOJx"
      },
      "source": [
        "### Third Largest Element\n",
        "Write a function that returns the third largest element of a list of integers. (Assume all elements in l will be distinct)"
      ]
    },
    {
      "cell_type": "code",
      "metadata": {
        "deletable": false,
        "nbgrader": {
          "cell_type": "code",
          "checksum": "03c6dc854611b588e98956abeb7daff8",
          "grade": false,
          "grade_id": "cell-08e7132823c18a19",
          "locked": false,
          "schema_version": 3,
          "solution": true,
          "task": false
        },
        "id": "G4zkOR2niOJy"
      },
      "source": [
        "def third_largest_element(l):\n",
        "    \"\"\"\n",
        "    Inputs:\n",
        "        l: list of ints, length of list >=3\n",
        "    \n",
        "    Outputs:\n",
        "        third_largest: int, third largest integer in l\n",
        "    \"\"\"\n",
        "    \n",
        "    # YOUR CODE HERE\n",
        "    if len(l) >= 3:\n",
        "      l.sort()\n",
        "      third_largest = l[-3]\n",
        "    \n",
        "    \n",
        "    return third_largest"
      ],
      "execution_count": null,
      "outputs": []
    },
    {
      "cell_type": "code",
      "metadata": {
        "deletable": false,
        "editable": false,
        "nbgrader": {
          "cell_type": "code",
          "checksum": "3cdc526e5e3206ecc9c444edf277d77b",
          "grade": true,
          "grade_id": "cell-67c5d87e34bb12bc",
          "locked": true,
          "points": 5,
          "schema_version": 3,
          "solution": false,
          "task": false
        },
        "id": "xUsO_mG2iOJ2"
      },
      "source": [
        "assert type(third_largest_element([1, 2, 3])) == type(4)\n"
      ],
      "execution_count": null,
      "outputs": []
    },
    {
      "cell_type": "markdown",
      "metadata": {
        "id": "JYrZsJ5miOJ6"
      },
      "source": [
        "## Q2"
      ]
    },
    {
      "cell_type": "markdown",
      "metadata": {
        "id": "7cMUEfhsiOJ7"
      },
      "source": [
        "### Taylor Series\n",
        "Taylor Series expansion of $e^x$ upto $n$ terms is as follows <br>\n",
        "$$\n",
        "e^x = \\sum_{i=0}^{n}{\\frac{x^i}{i!}}\n",
        "$$\n",
        "where\n",
        "$i!$ is factorial of $i$ i.e., $1*2*3*\\ldots*i$\n",
        "\n",
        "Write a function that takes arguments $n$ and $x$ and finds value of taylor expansion of $e^x$ upto $n$ terms"
      ]
    },
    {
      "cell_type": "code",
      "metadata": {
        "deletable": false,
        "nbgrader": {
          "cell_type": "code",
          "checksum": "53e98e7b9a24de97f0cd4e3efa37988d",
          "grade": false,
          "grade_id": "cell-2b724d2d1a657c8f",
          "locked": false,
          "schema_version": 3,
          "solution": true,
          "task": false
        },
        "id": "ge1_BlixiOJ7"
      },
      "source": [
        "def taylor_expansion_ex(x, n):\n",
        "    \"\"\"\n",
        "    Inputs:\n",
        "        n: int, n>=0\n",
        "        x: float\n",
        "    \n",
        "    Outputs:\n",
        "        taylor_exp : float, taylor_expansion of e^x upto n terms\n",
        "    \"\"\"\n",
        "    \n",
        "    # YOUR CODE HERE\n",
        "    ans = 0\n",
        "    for i in range(0,n):\n",
        "        ans += x**i / math.factorial(i)\n",
        "    taylor_exp = ans \n",
        "    \n",
        "    return taylor_exp"
      ],
      "execution_count": null,
      "outputs": []
    },
    {
      "cell_type": "code",
      "metadata": {
        "deletable": false,
        "editable": false,
        "nbgrader": {
          "cell_type": "code",
          "checksum": "d351f3cbf764dd5638cb73ffb1c1fc46",
          "grade": true,
          "grade_id": "cell-601893a812144e25",
          "locked": true,
          "points": 5,
          "schema_version": 3,
          "solution": false,
          "task": false
        },
        "id": "Y_f3y4l4iOJ_"
      },
      "source": [
        "assert type(taylor_expansion_ex(1, 1)) == type(2.)\n"
      ],
      "execution_count": null,
      "outputs": []
    },
    {
      "cell_type": "markdown",
      "metadata": {
        "id": "ScMLR6B-iOKD"
      },
      "source": [
        "## Q3"
      ]
    },
    {
      "cell_type": "markdown",
      "metadata": {
        "id": "tM022EuRiOKD"
      },
      "source": [
        "### Armstrong numbers\n",
        "Armstrong number is a number that is equal to the sum of cubes of its digits. <br>\n",
        "For eg., $153 = 1^3 + 5^3 + 3^3$\n",
        "\n",
        "Write a function that takes an argument $n$ and returns list of armstrong numbers between $0$ and $n$ (including $0$ and $n$)(List should be sorted in ascending order)"
      ]
    },
    {
      "cell_type": "code",
      "metadata": {
        "deletable": false,
        "nbgrader": {
          "cell_type": "code",
          "checksum": "1d5a80560b26870eea3c8c59fdeda6a4",
          "grade": false,
          "grade_id": "cell-4bd7d534db20e974",
          "locked": false,
          "schema_version": 3,
          "solution": true,
          "task": false
        },
        "id": "oxYfZ6zAiOKF"
      },
      "source": [
        "def armstrong_numbers(n):\n",
        "    \"\"\"\n",
        "    Inputs:\n",
        "        n: int\n",
        "        \n",
        "    Outputs:\n",
        "        arm_nums: sorted list of ints, list of armstrong numbers between 0 to n \n",
        "    \"\"\"\n",
        "    \n",
        "    # YOUR CODE HERE\n",
        "    def arm_no(x):\n",
        "      b = [int(i) for i in str(x)]\n",
        "      c = [i**3 for i in b]\n",
        "      return sum(c)\n",
        "    lst = []\n",
        "    for i in range(0,n+1):\n",
        "      lst.append(arm_no(i))\n",
        "    lst.sort()\n",
        "    arm_nums = lst\n",
        "    return arm_nums"
      ],
      "execution_count": null,
      "outputs": []
    },
    {
      "cell_type": "code",
      "metadata": {
        "deletable": false,
        "editable": false,
        "nbgrader": {
          "cell_type": "code",
          "checksum": "b01985e2b863d4ec25923331f14ee02a",
          "grade": true,
          "grade_id": "cell-f39a16c6615c36c1",
          "locked": true,
          "points": 5,
          "schema_version": 3,
          "solution": false,
          "task": false
        },
        "id": "oWuGdO4TiOKJ"
      },
      "source": [
        "assert type(armstrong_numbers(1)) == list\n"
      ],
      "execution_count": null,
      "outputs": []
    },
    {
      "cell_type": "markdown",
      "metadata": {
        "id": "x7JxJudGiOKN"
      },
      "source": [
        "## Q4"
      ]
    },
    {
      "cell_type": "markdown",
      "metadata": {
        "id": "j3k-C3NBiOKO"
      },
      "source": [
        "### Remove all occurences\n",
        "Given a list $l$ and element $e$, remove all occurences of $e$ from $l$ and return it. "
      ]
    },
    {
      "cell_type": "code",
      "metadata": {
        "deletable": false,
        "nbgrader": {
          "cell_type": "code",
          "checksum": "92da40a5efbf71b7180a4632eac3b20d",
          "grade": false,
          "grade_id": "cell-f61ee94d18289e65",
          "locked": false,
          "schema_version": 3,
          "solution": true,
          "task": false
        },
        "id": "uJ4-R3BaiOKP"
      },
      "source": [
        "def remove_occurences(l, e):\n",
        "    \"\"\"\n",
        "    Inputs:\n",
        "        l: list\n",
        "        e: an element of list l (can be of type int, float or str)\n",
        "    Outputs:\n",
        "        l_clean: list, same as list l but with all occurences of e removed from it\n",
        "    \"\"\"\n",
        "    \n",
        "    # YOUR CODE HERE\n",
        "    while e in l:\n",
        "      l.remove(e)\n",
        "    l_clean = l\n",
        "    \n",
        "    return l_clean"
      ],
      "execution_count": null,
      "outputs": []
    },
    {
      "cell_type": "code",
      "metadata": {
        "deletable": false,
        "editable": false,
        "nbgrader": {
          "cell_type": "code",
          "checksum": "41fc472e1a33e9321e21a6e41def58ea",
          "grade": true,
          "grade_id": "cell-a8521f22df5c2000",
          "locked": true,
          "points": 5,
          "schema_version": 3,
          "solution": false,
          "task": false
        },
        "id": "CFVP679kiOKT"
      },
      "source": [
        "assert type(remove_occurences([1, 2, 3, 4], 2)) == list\n"
      ],
      "execution_count": null,
      "outputs": []
    },
    {
      "cell_type": "markdown",
      "metadata": {
        "id": "51c70CKqiOKX"
      },
      "source": [
        "## Q5"
      ]
    },
    {
      "cell_type": "markdown",
      "metadata": {
        "id": "ySkh9XD3iOKX"
      },
      "source": [
        "## Adder function\n",
        "Write a function that takes an input $a$ and returns a function $f$. <br>\n",
        "$f$ should take an input $n$ and return the sum of $a$ and $n$. \n"
      ]
    },
    {
      "cell_type": "code",
      "metadata": {
        "deletable": false,
        "nbgrader": {
          "cell_type": "code",
          "checksum": "8be04ae078d59dde72a92b6e7e22f826",
          "grade": false,
          "grade_id": "cell-4509d678d995333b",
          "locked": false,
          "schema_version": 3,
          "solution": true,
          "task": false
        },
        "id": "l3fXQHtliOKY"
      },
      "source": [
        "def get_adder(a):\n",
        "    \"\"\"\n",
        "    Inputs:\n",
        "        a: int/float\n",
        "    Outputs:\n",
        "        a_adder: function, it is a function that takes an input n, adds a to it and returns it\n",
        "    \"\"\"\n",
        "    \n",
        "    # YOUR CODE HERE\n",
        "    def f(n):\n",
        "      return n + a\n",
        "    a_adder = f\n",
        "    return a_adder"
      ],
      "execution_count": null,
      "outputs": []
    },
    {
      "cell_type": "code",
      "metadata": {
        "deletable": false,
        "editable": false,
        "nbgrader": {
          "cell_type": "code",
          "checksum": "35d5edb170b041b1f38cb1c3c7ca153b",
          "grade": true,
          "grade_id": "cell-17b02b44087f0987",
          "locked": true,
          "points": 5,
          "schema_version": 3,
          "solution": false,
          "task": false
        },
        "id": "O7qOAuZyiOKc"
      },
      "source": [
        "assert type(get_adder(2)) == type(lambda x: x)\n",
        "\n",
        "two_adder = get_adder(2)\n",
        "assert two_adder(3) == 5\n"
      ],
      "execution_count": null,
      "outputs": []
    }
  ]
}