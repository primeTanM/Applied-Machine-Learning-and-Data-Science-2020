{
  "nbformat": 4,
  "nbformat_minor": 0,
  "metadata": {
    "colab": {
      "name": "Copy of Quiz 5.ipynb",
      "provenance": [],
      "collapsed_sections": []
    },
    "kernelspec": {
      "name": "python3",
      "display_name": "Python 3"
    }
  },
  "cells": [
    {
      "cell_type": "markdown",
      "metadata": {
        "id": "k1y00BqjpyTP"
      },
      "source": [
        "##1"
      ]
    },
    {
      "cell_type": "markdown",
      "metadata": {
        "id": "9YWHjWjtp9Bz"
      },
      "source": [
        "###Q. Generate Random points\n",
        "Write a function that takes parameters $r_1$, $r_2$, $n$ $(r_2 > r_1 > 0)$ and generates random points $(x_1, x_2)$ as follows - \n",
        "- $n$ random points that lie within a circle with center at $(0, 0)$ and radius $r_1$ $\\rightarrow$ These points belong to class ```'inner'```\n",
        "- $n$ random points that lie outside circle with center at $(0, 0)$ and radius $r_1$ but inside circle with center at $(0, 0)$ and radius $r_2$ $\\rightarrow$ These points belong to class ```'outer'```\n",
        "\n",
        "The function gen_random should return $X$, $Cls$ :\n",
        "- $X$ is a numpy array of shape $(2n, 2)$ which has the $2n$ random points generated as above\n",
        "- $Cls$ is a numpy array of shape $(2n,)$ which contains the value of the class corresponding to each point in $X$ (values will be either ```'inner'``` or ```'outer'```)"
      ]
    },
    {
      "cell_type": "code",
      "metadata": {
        "id": "7WWEUIetpA04"
      },
      "source": [
        "def gen_random_points(r1, r2, n):\n",
        "  \"\"\"\n",
        "  Inputs:\n",
        "    r1 : float\n",
        "    r2 : float, r2 > r1\n",
        "    n : int, number of points\n",
        "  Outputs:\n",
        "    X : numpy array, shape -> (2n, 2)\n",
        "    Cls : numpy array, shape -> (2n, )\n",
        "  \"\"\"\n",
        "  ### Write your code here\n",
        "  import numpy as np\n",
        "  list1 = []\n",
        "  list2 = []\n",
        "\n",
        "  for i in range(n):\n",
        "    x1 = []\n",
        "    a1 = np.random.uniform(0.0,r1)\n",
        "    b1 = np.random.uniform(0.0,r1)\n",
        "\n",
        "    x1.append(a1)\n",
        "    x1.append(b1)\n",
        "\n",
        "    list1.append(x1)\n",
        "    list2.append(\"inner\")\n",
        "\n",
        "  for i in range(n):\n",
        "    x2 = []\n",
        "    a1 = np.random.uniform(r1,r2)\n",
        "    b1 = np.random.uniform(r1,r2)\n",
        "\n",
        "    x2.append(a1)\n",
        "    x2.append(b1)\n",
        "\n",
        "    list1.append(x2)\n",
        "    list2.append(\"outer\")\n",
        "\n",
        "  X = np.asarray(list1)\n",
        "  Cls = np.asarray(list2)\n",
        "\n",
        "  return (X, Cls)\n",
        "\n"
      ],
      "execution_count": null,
      "outputs": []
    },
    {
      "cell_type": "markdown",
      "metadata": {
        "id": "zQEovtnWvF1E"
      },
      "source": [
        "##2"
      ]
    },
    {
      "cell_type": "markdown",
      "metadata": {
        "id": "RZnBaClDvJbp"
      },
      "source": [
        "###Q. One-hot encode\n",
        "Write a function that takes a numpy array $Cls$ of shape $(n, )$ which contains class labels of $n$ samples of data and creates a numpy array, $Y_d$ of shape $(n, \\text{unique})$ containing 1-hot representations of the $n$ samples. Here $\\text{unique}$ is the number of unique classes in $Cls$. <br>\n",
        "The function should return two values - \n",
        "- $Y_d$ - numpy array of shape $(n, \\text{unique})$ with 1-hot representations\n",
        "- ```cls_order``` - numpy array of shape $(\\text{unique}, )$ which contains the labels of the classes in the order in which they occur in the 1-hot representation.\n"
      ]
    },
    {
      "cell_type": "code",
      "metadata": {
        "id": "WLB75bffvIne"
      },
      "source": [
        "def one_hot_encode(Cls):\n",
        "  \"\"\"\n",
        "  Inputs:\n",
        "    Cls: numpy array, shape: (n, ) contains class labels of n data samples\n",
        "  Outputs:\n",
        "    Yd : numpy array of shape (n, unique)\n",
        "    cls_order: numpy array of shape(unique, )\n",
        "  \"\"\"\n",
        "  ### Write your code here\n",
        "  import numpy as np\n",
        "  from numpy import array\n",
        "  from numpy import argmax\n",
        "  from sklearn.preprocessing import LabelEncoder\n",
        "  from sklearn.preprocessing import OneHotEncoder\n",
        "    \n",
        "    \n",
        "  values = array(Cls)\n",
        "    \n",
        "    \n",
        "  label_encoder = LabelEncoder()\n",
        "  integer_encoded = label_encoder.fit_transform(values)\n",
        "    \n",
        "    \n",
        "  onehot_encoder = OneHotEncoder(sparse=False)\n",
        "  integer_encoded = integer_encoded.reshape(len(integer_encoded), 1)\n",
        "  onehot_encoded = onehot_encoder.fit_transform(integer_encoded)\n",
        "  Yd = onehot_encoded\n",
        "  cls_order = label_encoder.inverse_transform([argmax(onehot_encoded)])\n",
        "    \n",
        "        \n",
        "    \n",
        "  return (Yd, cls_order)"
      ],
      "execution_count": null,
      "outputs": []
    },
    {
      "cell_type": "markdown",
      "metadata": {
        "id": "DFD0WNUbzYUo"
      },
      "source": [
        "##3"
      ]
    },
    {
      "cell_type": "markdown",
      "metadata": {
        "id": "PTczqgGRzZ-K"
      },
      "source": [
        "###Q. Softmax\n",
        "Write a function that takes a vector (numpy array of shape $(f,)$) - $(y_{in})$ and returns the result vector (numpy array of shape $(f,)$) - $(y_{out})$ of applying the softmax non-linearity to it. <br>\n",
        "$$\n",
        "y_{out}^{i} = \\frac{e^{y_{in}^{i}}}{\\sum_{i=1}^{f}e^{y_{in}^{i}}}\n",
        "$$ \n",
        "\n",
        "where $y^{i}$ refers to the $i^{th}$ component of vector $y$"
      ]
    },
    {
      "cell_type": "code",
      "metadata": {
        "id": "C6jF41px0EAD"
      },
      "source": [
        "def softmax(y_in):\n",
        "  \"\"\"\n",
        "  Inputs:\n",
        "    y_in : numpy array of shape (f, ), input vector \n",
        "  Outputs:\n",
        "    y_out : numpy array of shape(f, ), output vector\n",
        "  \"\"\"\n",
        "  ### Write your code here\n",
        "  y_in_exp = np.exp(y_in)\n",
        "  y_in_sum = np.sum(y_in_exp,axis = 1,keepdims = True)\n",
        "  y_out = y_in_exp / y_in_sum\n",
        "\n",
        "  return y_out"
      ],
      "execution_count": null,
      "outputs": []
    },
    {
      "cell_type": "markdown",
      "metadata": {
        "id": "bymfyiNKzoep"
      },
      "source": [
        "##4"
      ]
    },
    {
      "cell_type": "markdown",
      "metadata": {
        "id": "NgvyBiO2zttQ"
      },
      "source": [
        "###Q. Standardize\n",
        "Write a function that takes input dataset $X$ of shape $(n, f)$ and returns dataset $X_{stdz}$  after standardizing $X$ where\n",
        "$$\n",
        "  X_{stdz}^i = \\frac{X^i - \\mu(X)}{\\sigma(X)}\n",
        "$$\n",
        "where $\\mu(X)$ is the feature-wise mean of all samples in $X$ and $\\sigma(X)$ is feature-wise standard deviation of all samples in $X$"
      ]
    },
    {
      "cell_type": "code",
      "metadata": {
        "id": "3wLIHeN-3G1x",
        "colab": {
          "base_uri": "https://localhost:8080/",
          "height": 70
        },
        "outputId": "ef2758f4-ceba-45aa-f23c-88bf73a2dc2e"
      },
      "source": [
        "\n",
        "def standardize(X):\n",
        "  \"\"\"\n",
        "  Inputs:\n",
        "    X: numpy array of shape (n, f)\n",
        "  Outputs:\n",
        "    X_stdz : numpy array of shape (n, f)\n",
        "  \"\"\"\n",
        "  ### Write your code here\n",
        "  import numpy as np\n",
        "  X_stdz = (X - np.mean(X)) / np.std(X)  \n",
        "    \n",
        "  return X_stdz\n",
        "\n"
      ],
      "execution_count": null,
      "outputs": [
        {
          "output_type": "execute_result",
          "data": {
            "text/plain": [
              "array([[-1.55563492, -0.91923882, -0.28284271],\n",
              "       [-0.28284271,  0.35355339,  0.98994949],\n",
              "       [-0.91923882,  0.98994949,  1.6263456 ]])"
            ]
          },
          "metadata": {
            "tags": []
          },
          "execution_count": 9
        }
      ]
    },
    {
      "cell_type": "markdown",
      "metadata": {
        "id": "Kazu6ZCf7xVU"
      },
      "source": [
        "##5"
      ]
    },
    {
      "cell_type": "markdown",
      "metadata": {
        "id": "2oPGUWp37y63"
      },
      "source": [
        "###Q. Normalize\n",
        "Write a function that takes input dataset $X$ of shape $(n, f)$ and returns dataset $X_{normd}$  after normalizing $X$ where\n",
        "$$\n",
        "  X_{normd}^i = \\frac{X^i - \\min(X)}{max(X) - min(X)}\n",
        "$$\n",
        "where $\\max(X)$ is the feature-wise maximum of all samples in $X$ and $min(X)$ is feature-wise minimum of all samples in $X$"
      ]
    },
    {
      "cell_type": "code",
      "metadata": {
        "id": "rC3cuVxU-vSp"
      },
      "source": [
        "def normalize(X):\n",
        "  \"\"\"\n",
        "  Inputs:\n",
        "    X: numpy array of shape (n, f)\n",
        "  Outputs:\n",
        "    X_normd : numpy array of shape (n, f)\n",
        "  \"\"\"\n",
        "  ### Write your code here\n",
        "  import numpy as np\n",
        "  X_normd = (X - min(X))/(max(X) - min(X)) \n",
        "    \n",
        "  return X_normd  "
      ],
      "execution_count": null,
      "outputs": []
    }
  ]
}