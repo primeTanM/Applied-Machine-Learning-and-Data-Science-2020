{
  "nbformat": 4,
  "nbformat_minor": 0,
  "metadata": {
    "colab": {
      "name": "Tanmay_Mishra_Quiz 7.ipynb",
      "provenance": [],
      "collapsed_sections": []
    },
    "language_info": {
      "codemirror_mode": {
        "name": "ipython",
        "version": 3
      },
      "file_extension": ".py",
      "mimetype": "text/x-python",
      "name": "python",
      "nbconvert_exporter": "python",
      "pygments_lexer": "ipython3",
      "version": "3.6.8"
    },
    "kernelspec": {
      "display_name": "Python 3",
      "language": "python",
      "name": "python3"
    }
  },
  "cells": [
    {
      "cell_type": "markdown",
      "metadata": {
        "id": "vqDlulbcMSrE"
      },
      "source": [
        "### Note:\n",
        "- The test cases here only check that type of output that you are returning is correct. They don't check whether the values that you are returning are actually correct. "
      ]
    },
    {
      "cell_type": "markdown",
      "metadata": {
        "id": "IGpNK5uo9nn9"
      },
      "source": [
        "## Perceptron Algorithm\n",
        "In this quiz, we are going to implement the perceptron learning algorithm which was discussed in class. (Refer to reference videos of Prof Behera)"
      ]
    },
    {
      "cell_type": "code",
      "metadata": {
        "id": "NBhwI8oMn34M"
      },
      "source": [
        "import numpy as np"
      ],
      "execution_count": null,
      "outputs": []
    },
    {
      "cell_type": "markdown",
      "metadata": {
        "id": "WXiXXDQxn34R"
      },
      "source": [
        "### Generate data\n",
        "Generate random points in two circles like this. <br>\n",
        "<img src = \"https://drive.google.com/uc?id=17doTxsW980SXmJwFrmZe93VKG6hzF2hc\">"
      ]
    },
    {
      "cell_type": "markdown",
      "metadata": {
        "id": "whEARUEF91Qz"
      },
      "source": [
        "##1"
      ]
    },
    {
      "cell_type": "markdown",
      "metadata": {
        "id": "aTI6R-tFn34S"
      },
      "source": [
        "### Random points in circle\n",
        "Write a function that takes as parameters center - $c$, radius - $r$ and number ($n$) of random points and returns an array of $n$ random points in circle with center $c$ and radius $r$."
      ]
    },
    {
      "cell_type": "code",
      "metadata": {
        "id": "Gbs97vGRn34S"
      },
      "source": [
        "def rand_points_in_circle(c, r, n):\n",
        "    \"\"\"\n",
        "    Inputs:\n",
        "        c: tuple of floats of length 2, co-ordinates of the center of circle\n",
        "        r: float, radius of circle\n",
        "        n: int, number of random points to generate\n",
        "    Outputs:\n",
        "        points: numpy array of shape (n, 2) with random points from circle \n",
        "    \"\"\"\n",
        "    ### Your Code Here\n",
        "    import math\n",
        "    import random\n",
        "    import numpy as np\n",
        "    out = []\n",
        "    for i in range(n):\n",
        "        # random angle\n",
        "        alpha = 2 * math.pi * random.random()\n",
        "        # random radius\n",
        "        R = r * math.sqrt(random.random())\n",
        "        # calculating coordinates\n",
        "        x = r * math.cos(alpha) + c[0]\n",
        "        y = r * math.sin(alpha) + c[1]\n",
        "        out.append((x,y))\n",
        "    a = np.array(out)\n",
        "    return a"
      ],
      "execution_count": null,
      "outputs": []
    },
    {
      "cell_type": "code",
      "metadata": {
        "id": "_AQsrCUp-PtR",
        "colab": {
          "base_uri": "https://localhost:8080/",
          "height": 33
        },
        "outputId": "0937e375-ea69-4260-856e-cde85b1349f6"
      },
      "source": [
        "\"\"\"Test Cases\"\"\"\n",
        "if __name__ == '__main__':\n",
        "  assert rand_points_in_circle((2., 2.), 3., 4).shape == (4, 2)\n",
        "  print('Test passed', '\\U0001F44D')"
      ],
      "execution_count": null,
      "outputs": [
        {
          "output_type": "stream",
          "text": [
            "Test passed 👍\n"
          ],
          "name": "stdout"
        }
      ]
    },
    {
      "cell_type": "markdown",
      "metadata": {
        "id": "wE645zoG_lt5"
      },
      "source": [
        "##2"
      ]
    },
    {
      "cell_type": "markdown",
      "metadata": {
        "id": "Q_r_0quwn34W"
      },
      "source": [
        "### Generate Data\n",
        "Use the rand_circle function to generate the $+$ and $-$ points. <br>\n",
        "The $y$ values corresponding to $+$ points will be $+1$ and $-$ points will be $-1$"
      ]
    },
    {
      "cell_type": "code",
      "metadata": {
        "id": "weTUE47Bn34X"
      },
      "source": [
        "def gen_data(c1, r1, c2, r2, n):\n",
        "  \"\"\"\n",
        "  This function generates 2n points\n",
        "    - n random points in circle with center c1 and radius r1 - These are the + points, y value for these points is +1\n",
        "    - n random points in circle with center c2 and radius r2 - These are the - points, y value for these points is -1\n",
        "\n",
        "  Inputs:\n",
        "    c1 - tuple of floats of length 2, co-ordinates of center of circle-1\n",
        "    r1 - float, radius of circle-1\n",
        "    c2 - tuple of floats of length 2, co-ordinates of center of circle-2\n",
        "    r2 -  float, radius of circle-2\n",
        "    n - int, Number of points in each circle\n",
        "\n",
        "  Outputs:\n",
        "    X : numpy array of samples of shape (2n, 2)\n",
        "    y : numpy array of labels (+1/ -1) of shape (2n, )\n",
        "  \"\"\"\n",
        "  ### Write your code here\n",
        "  ### Write your code here\n",
        "  l1 = rand_points_in_circle(c1,r1,n)\n",
        "  l2 = rand_points_in_circle(c2,r2,n)\n",
        "  X = np.concatenate((l1,l2),axis = 0)\n",
        "  \n",
        "  y1 = np.repeat(+1,n)\n",
        "  y2 = np.repeat(-1,n)\n",
        "  y = np.concatenate((y1,y2),axis = 0)\n",
        "  \n",
        "\n",
        "  return X, y"
      ],
      "execution_count": null,
      "outputs": []
    },
    {
      "cell_type": "code",
      "metadata": {
        "id": "HbB6eRZEBwIn",
        "colab": {
          "base_uri": "https://localhost:8080/",
          "height": 33
        },
        "outputId": "8a73b085-817a-460a-fe23-757a48b509dc"
      },
      "source": [
        "\"\"\" Test Cases \"\"\"\n",
        "if __name__ == \"__main__\":\n",
        "  X, y = gen_data((1, 1), 2, (10, 10), 4, 10)\n",
        "  assert X.shape == (20, 2)\n",
        "  assert y.shape == (20, )\n",
        "  print('Test passed', '\\U0001F44D')"
      ],
      "execution_count": null,
      "outputs": [
        {
          "output_type": "stream",
          "text": [
            "Test passed 👍\n"
          ],
          "name": "stdout"
        }
      ]
    },
    {
      "cell_type": "markdown",
      "metadata": {
        "id": "dD5SwIo8Fzv2"
      },
      "source": [
        "##3"
      ]
    },
    {
      "cell_type": "markdown",
      "metadata": {
        "id": "qAgOW0tsn34h"
      },
      "source": [
        "### Create Perceptron model\n",
        "The perceptron model we shall use is defined as follows : <br>\n",
        "$$\n",
        "y_{pred} = \\text{Sign}(\\sum_{i=0}^{2}{w_i.x_i})\n",
        "$$\n",
        "where $\\text{Sign}$ is the sign function <br> \n",
        "$\\text{Sign}(x) = 1$ if $x>=0$ <br>\n",
        "$\\text{Sign}(x) = -1$ if $x<0$ <br>\n",
        "Also, <br>\n",
        "$x_0 = 1$ and $x_1$ and $x_2$ are the coordinates of the points. <br>\n",
        "$w_0$, $w_1$ and $w_2$ are parameters of our model.\n"
      ]
    },
    {
      "cell_type": "markdown",
      "metadata": {
        "id": "SjxZChcln34i"
      },
      "source": [
        "####Perceptron Model\n",
        "Write a function that given the values of $\\bf w$ and $\\bf X$, applies the perceptron model and returns the predictions."
      ]
    },
    {
      "cell_type": "code",
      "metadata": {
        "id": "PjEXde4Tn34j"
      },
      "source": [
        "def perceptron_predict(w, X):\n",
        "    \"\"\"\n",
        "    Inputs:\n",
        "        w: numpy array of shape (3, ), model weights\n",
        "        X: numpy array of shape (n, 2), sample points\n",
        "    \n",
        "    Outputs:\n",
        "        y_pred: numpy array of shape (n,) with values +1 / -1 obtained applying perceptron model to X\n",
        "    \"\"\"\n",
        "    ### Your Code Here\n",
        "    def Sign(x):\n",
        "        if x >= 0:\n",
        "            return 1\n",
        "        else:\n",
        "            return -1\n",
        "    lst = []\n",
        "    for row in X: \n",
        "        s = Sign(w[0] + (w[1] * row[0]) + (w[2] * row[0])) \n",
        "        lst.append(s)\n",
        "    y_pred = np.array(lst)\n",
        "    return y_pred\n",
        "    "
      ],
      "execution_count": null,
      "outputs": []
    },
    {
      "cell_type": "code",
      "metadata": {
        "id": "Mmwqw8-LFODi",
        "colab": {
          "base_uri": "https://localhost:8080/",
          "height": 33
        },
        "outputId": "7e37330c-8c21-4765-8907-7993ab26974f"
      },
      "source": [
        "\"\"\"Test cases\"\"\"\n",
        "if __name__ == '__main__':\n",
        "  y_pred = perceptron_predict(np.array([1, 2, 3]), np.arange(10).reshape(5, 2))\n",
        "  assert y_pred.shape == (5, )\n",
        "  print('Test passed', '\\U0001F44D')"
      ],
      "execution_count": null,
      "outputs": [
        {
          "output_type": "stream",
          "text": [
            "Test passed 👍\n"
          ],
          "name": "stdout"
        }
      ]
    },
    {
      "cell_type": "markdown",
      "metadata": {
        "id": "lTwS1brRF4u2"
      },
      "source": [
        "##4"
      ]
    },
    {
      "cell_type": "markdown",
      "metadata": {
        "id": "jHz7dpz-n34m"
      },
      "source": [
        "### Loss\n",
        "Our loss function is ```number of misclassified points```. <br>\n",
        "Write a function that takes as inputs $w$, $X$, $y_d$ and returns two values \n",
        " - number of misclassified points, ```n_wrong```\n",
        " - a random misclassified point ```x_wrong``` \n",
        " \n",
        "If number of misclassified points is 0, then ```x_wrong``` should be ```None```"
      ]
    },
    {
      "cell_type": "code",
      "metadata": {
        "id": "-PqRUWhzn34n"
      },
      "source": [
        "def misclassified(X, yd, w):\n",
        "    \"\"\"\n",
        "    Inputs:\n",
        "        X : numpy array of shape (n, 2), sample points\n",
        "        yd : numpy array of shape (n,), true labels\n",
        "        w : numpy array of shape (3, ), model weights\n",
        "    Outputs:\n",
        "        n_wrong: int, number of misclassified points\n",
        "        x_wrong: numpy array of shape (2, ) - a misclassified point, None if n_wrong is 0\n",
        "    \"\"\"\n",
        "    ### Your Code Here\n",
        "    import random\n",
        "    y_pred = perceptron_predict(w,X)\n",
        "    if (y_pred == yd).all() == True:\n",
        "        n_wrong = 0\n",
        "        x_wrong = None\n",
        "        \n",
        "    else:\n",
        "        count = 0\n",
        "        l1 = []\n",
        "        arr = (y_pred == yd)\n",
        "        for i,v in enumerate(arr):\n",
        "            if v == False:\n",
        "                l1.append(X[i])\n",
        "                count += 1\n",
        "        n_wrong = count\n",
        "        x_wrong = random.choice(l1)\n",
        "    \n",
        "    return n_wrong, x_wrong\n",
        "  "
      ],
      "execution_count": null,
      "outputs": []
    },
    {
      "cell_type": "code",
      "metadata": {
        "id": "tMZ93tOlIYb-",
        "colab": {
          "base_uri": "https://localhost:8080/",
          "height": 33
        },
        "outputId": "c735afd9-2b17-4e63-fe20-392d5234f509"
      },
      "source": [
        "\"\"\" Test Cases\"\"\"\n",
        "if __name__ == '__main__':\n",
        "  n_wrong, x_wrong = misclassified(np.arange(10).reshape(5, 2), np.array([-1]*5), np.ones(3))\n",
        "  assert n_wrong > 0\n",
        "  assert x_wrong.shape == (2, )\n",
        "  print('Test passed', '\\U0001F44D')"
      ],
      "execution_count": null,
      "outputs": [
        {
          "output_type": "stream",
          "text": [
            "Test passed 👍\n"
          ],
          "name": "stdout"
        }
      ]
    },
    {
      "cell_type": "markdown",
      "metadata": {
        "id": "uFATUfo_IWz9"
      },
      "source": [
        "##5"
      ]
    },
    {
      "cell_type": "markdown",
      "metadata": {
        "id": "0N4xQymen34t"
      },
      "source": [
        "### Training\n",
        "Apply perceptron learning algorithm and find parameters $w$ which perfectly separate the $+$ and $-$ points. <br>\n",
        "We shall use the following learning algorithm - <br>\n",
        "<br>\n",
        "- Start with random weights.\n",
        "- Do the following steps till all points are correctly classified:\n",
        "  - Pick a misclassified point $(x_i, yd_i)$ {$yd_i$ is true label corresponding to $x_i$}\n",
        "  - Update weights:\n",
        "$$\n",
        "w_{new} = w_{old} + yd_i.x_i \n",
        "$$"
      ]
    },
    {
      "cell_type": "code",
      "metadata": {
        "id": "a2Pulvphn34u"
      },
      "source": [
        "def perceptron_train(X, y):\n",
        "  \"\"\"\n",
        "  This function trains the perceptron model starting from random weights.\n",
        "\n",
        "  Inputs:\n",
        "    X: numpy array of shape (n, 2) - sample points\n",
        "    y: numpy array of shape (n, ) - true labels\n",
        "  \n",
        "  Outputs:\n",
        "    w: numpy array of shape (3, ) - model parameters after training\n",
        "  \"\"\"\n",
        "  ### Write your code here\n",
        "  w = np.random.rand(3,)\n",
        "  no_miss,mp = misclassified(X, y, w)\n",
        "  while(no_miss != 0):\n",
        "    i = i + 1\n",
        "    index = np.where( X == mp)[0][0] \n",
        "    mp = np.append(1,mp)\n",
        "\n",
        "    for k in range(3):\n",
        "      w[k] = w[k] + (y[index] * mp[k])\n",
        "\n",
        "    no_miss,mp = misclassified(X, y, w)\n",
        "  return w"
      ],
      "execution_count": null,
      "outputs": []
    }
  ]
}